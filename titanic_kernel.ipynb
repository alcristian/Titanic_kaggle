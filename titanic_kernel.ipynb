{
 "cells": [
  {
   "cell_type": "code",
<<<<<<< HEAD
   "execution_count": 51,
   "metadata": {},
=======
   "execution_count": 100,
   "metadata": {
    "collapsed": true
   },
>>>>>>> 2647867a205789b1da4117883f62add01f51dcf5
   "outputs": [],
   "source": [
    "from sklearn.model_selection import train_test_split\n",
    "from sklearn import tree\n",
    "import pandas as pd # data processing, CSV file I/O (e.g. pd.read_csv)\n",
<<<<<<< HEAD
    "from pandas.plotting import scatter_matrix\n",
    "import graphviz #using for export decision tree\n",
    "from sklearn.linear_model import LogisticRegression\n",
    "from sklearn.metrics import confusion_matrix \n",
    "from sklearn.metrics import accuracy_score \n",
    "import matplotlib.pyplot as plt\n",
    "\n",
    "\n"
=======
    "import graphviz\n",
    "from sklearn.metrics import accuracy_score\n"
   ]
  },
  {
   "cell_type": "code",
   "execution_count": 101,
   "metadata": {
    "collapsed": true
   },
   "outputs": [],
   "source": [
    "#importing gender dataframe\n",
    "gender_df = pd.read_csv(\"gender_submission.csv\")\n",
    "test_df = pd.read_csv(\"test.csv\")\n",
    "train_df = pd.read_csv(\"train.csv\")\n",
    "\n",
    "train_x = []\n",
    "train_y = []\n",
    "\n",
    "train_df.keys()\n",
    "train_df = train_df.fillna(0)\n",
    "train_df= train_df.replace('male',1)\n",
    "train_df= train_df.replace('female',0)\n",
    "\n",
    "train_x = train_df.loc[:,['PassengerId', 'Pclass', 'Age', 'SibSp','Parch', 'Fare','Sex']]\n",
    "train_y = train_df.loc[:,['Survived']]\n"
>>>>>>> 2647867a205789b1da4117883f62add01f51dcf5
   ]
  },
  {
   "cell_type": "code",
<<<<<<< HEAD
   "execution_count": 21,
   "metadata": {
    "scrolled": true
   },
=======
   "execution_count": 102,
   "metadata": {},
>>>>>>> 2647867a205789b1da4117883f62add01f51dcf5
   "outputs": [
    {
     "data": {
      "text/html": [
       "<div>\n",
       "<style>\n",
       "    .dataframe thead tr:only-child th {\n",
       "        text-align: right;\n",
       "    }\n",
       "\n",
       "    .dataframe thead th {\n",
       "        text-align: left;\n",
       "    }\n",
       "\n",
       "    .dataframe tbody tr th {\n",
       "        vertical-align: top;\n",
       "    }\n",
       "</style>\n",
       "<table border=\"1\" class=\"dataframe\">\n",
       "  <thead>\n",
       "    <tr style=\"text-align: right;\">\n",
       "      <th></th>\n",
       "      <th>PassengerId</th>\n",
       "      <th>Pclass</th>\n",
       "      <th>Age</th>\n",
       "      <th>SibSp</th>\n",
       "      <th>Parch</th>\n",
       "      <th>Fare</th>\n",
       "      <th>Sex</th>\n",
       "    </tr>\n",
       "  </thead>\n",
       "  <tbody>\n",
       "    <tr>\n",
       "      <th>0</th>\n",
       "      <td>1</td>\n",
       "      <td>3</td>\n",
       "      <td>22.0</td>\n",
       "      <td>1</td>\n",
       "      <td>0</td>\n",
       "      <td>7.2500</td>\n",
       "      <td>1</td>\n",
       "    </tr>\n",
       "    <tr>\n",
       "      <th>1</th>\n",
       "      <td>2</td>\n",
       "      <td>1</td>\n",
       "      <td>38.0</td>\n",
       "      <td>1</td>\n",
       "      <td>0</td>\n",
       "      <td>71.2833</td>\n",
       "      <td>0</td>\n",
       "    </tr>\n",
       "    <tr>\n",
       "      <th>2</th>\n",
       "      <td>3</td>\n",
       "      <td>3</td>\n",
       "      <td>26.0</td>\n",
       "      <td>0</td>\n",
       "      <td>0</td>\n",
       "      <td>7.9250</td>\n",
       "      <td>0</td>\n",
       "    </tr>\n",
       "    <tr>\n",
       "      <th>3</th>\n",
       "      <td>4</td>\n",
       "      <td>1</td>\n",
       "      <td>35.0</td>\n",
       "      <td>1</td>\n",
       "      <td>0</td>\n",
       "      <td>53.1000</td>\n",
       "      <td>0</td>\n",
       "    </tr>\n",
       "    <tr>\n",
       "      <th>4</th>\n",
       "      <td>5</td>\n",
       "      <td>3</td>\n",
       "      <td>35.0</td>\n",
       "      <td>0</td>\n",
       "      <td>0</td>\n",
       "      <td>8.0500</td>\n",
       "      <td>1</td>\n",
       "    </tr>\n",
       "  </tbody>\n",
       "</table>\n",
       "</div>"
      ],
      "text/plain": [
       "   PassengerId  Pclass   Age  SibSp  Parch     Fare  Sex\n",
       "0            1       3  22.0      1      0   7.2500    1\n",
       "1            2       1  38.0      1      0  71.2833    0\n",
       "2            3       3  26.0      0      0   7.9250    0\n",
       "3            4       1  35.0      1      0  53.1000    0\n",
       "4            5       3  35.0      0      0   8.0500    1"
      ]
     },
<<<<<<< HEAD
     "execution_count": 21,
=======
     "execution_count": 102,
>>>>>>> 2647867a205789b1da4117883f62add01f51dcf5
     "metadata": {},
     "output_type": "execute_result"
    }
   ],
   "source": [
    "#importing gender dataframe\n",
    "#Importando as bases de dados \n",
    "test_df = pd.read_csv(\"test.csv\")\n",
    "train_df = pd.read_csv(\"train.csv\")\n",
    "\n",
    "#test new cases\n",
    "test_df_x = []\n",
    "test_df.keys()\n",
    "test_df = test_df.fillna(0)\n",
    "test_df= test_df.replace('male',1)\n",
    "test_df= test_df.replace('female',0)\n",
    "test_df_x = test_df.loc[:,['PassengerId', 'Pclass', 'Age', 'SibSp','Parch', 'Fare','Sex']]\n",
    "\n",
    "\n",
    "#train\n",
    "train_x = []\n",
    "train_y = []\n",
    "\n",
    "train_df.keys()\n",
    "train_df = train_df.fillna(0)\n",
    "train_df= train_df.replace('male',1)\n",
    "train_df= train_df.replace('female',0)\n",
    "\n",
    "train_x = train_df.loc[:,['PassengerId', 'Pclass', 'Age', 'SibSp','Parch', 'Fare','Sex']]\n",
    "train_y = train_df.loc[:,['Survived']]\n",
    "\n",
    "train_x.head()"
   ]
  },
  {
   "cell_type": "code",
<<<<<<< HEAD
   "execution_count": 3,
=======
   "execution_count": 103,
>>>>>>> 2647867a205789b1da4117883f62add01f51dcf5
   "metadata": {},
   "outputs": [
    {
     "data": {
      "text/html": [
       "<div>\n",
       "<style>\n",
       "    .dataframe thead tr:only-child th {\n",
       "        text-align: right;\n",
       "    }\n",
       "\n",
       "    .dataframe thead th {\n",
       "        text-align: left;\n",
       "    }\n",
       "\n",
       "    .dataframe tbody tr th {\n",
       "        vertical-align: top;\n",
       "    }\n",
       "</style>\n",
       "<table border=\"1\" class=\"dataframe\">\n",
       "  <thead>\n",
       "    <tr style=\"text-align: right;\">\n",
       "      <th></th>\n",
       "      <th>Survived</th>\n",
       "    </tr>\n",
       "  </thead>\n",
       "  <tbody>\n",
       "    <tr>\n",
       "      <th>0</th>\n",
       "      <td>0</td>\n",
       "    </tr>\n",
       "    <tr>\n",
       "      <th>1</th>\n",
       "      <td>1</td>\n",
       "    </tr>\n",
       "    <tr>\n",
       "      <th>2</th>\n",
       "      <td>1</td>\n",
       "    </tr>\n",
       "    <tr>\n",
       "      <th>3</th>\n",
       "      <td>1</td>\n",
       "    </tr>\n",
       "    <tr>\n",
       "      <th>4</th>\n",
       "      <td>0</td>\n",
       "    </tr>\n",
       "  </tbody>\n",
       "</table>\n",
       "</div>"
      ],
      "text/plain": [
       "   Survived\n",
       "0         0\n",
       "1         1\n",
       "2         1\n",
       "3         1\n",
       "4         0"
      ]
     },
<<<<<<< HEAD
     "execution_count": 3,
=======
     "execution_count": 103,
>>>>>>> 2647867a205789b1da4117883f62add01f51dcf5
     "metadata": {},
     "output_type": "execute_result"
    }
   ],
   "source": [
    "train_y.head()"
   ]
  },
  {
   "cell_type": "code",
<<<<<<< HEAD
   "execution_count": 41,
   "metadata": {},
   "outputs": [
    {
     "name": "stdout",
     "output_type": "stream",
     "text": [
      "(891, 12)\n"
     ]
    }
   ],
   "source": [
    "# shape\n",
    "print(train_df.shape)"
   ]
  },
  {
   "cell_type": "code",
   "execution_count": 42,
   "metadata": {},
   "outputs": [
    {
     "name": "stdout",
     "output_type": "stream",
     "text": [
      "       PassengerId    Survived      Pclass         Sex         Age  \\\n",
      "count   891.000000  891.000000  891.000000  891.000000  891.000000   \n",
      "mean    446.000000    0.383838    2.308642    0.647587   23.799293   \n",
      "std     257.353842    0.486592    0.836071    0.477990   17.596074   \n",
      "min       1.000000    0.000000    1.000000    0.000000    0.000000   \n",
      "25%     223.500000    0.000000    2.000000    0.000000    6.000000   \n",
      "50%     446.000000    0.000000    3.000000    1.000000   24.000000   \n",
      "75%     668.500000    1.000000    3.000000    1.000000   35.000000   \n",
      "max     891.000000    1.000000    3.000000    1.000000   80.000000   \n",
      "\n",
      "            SibSp       Parch        Fare  \n",
      "count  891.000000  891.000000  891.000000  \n",
      "mean     0.523008    0.381594   32.204208  \n",
      "std      1.102743    0.806057   49.693429  \n",
      "min      0.000000    0.000000    0.000000  \n",
      "25%      0.000000    0.000000    7.910400  \n",
      "50%      0.000000    0.000000   14.454200  \n",
      "75%      1.000000    0.000000   31.000000  \n",
      "max      8.000000    6.000000  512.329200  \n"
     ]
    }
   ],
   "source": [
    "# Describe\n",
    "print(train_df.describe())"
   ]
  },
  {
   "cell_type": "code",
   "execution_count": 48,
   "metadata": {},
   "outputs": [
    {
     "data": {
      "image/png": "iVBORw0KGgoAAAANSUhEUgAAAXoAAAEICAYAAABRSj9aAAAABHNCSVQICAgIfAhkiAAAAAlwSFlzAAALEgAACxIB0t1+/AAAADl0RVh0U29mdHdhcmUAbWF0cGxvdGxpYiB2ZXJzaW9uIDIuMi4yLCBodHRwOi8vbWF0cGxvdGxpYi5vcmcvhp/UCwAAIABJREFUeJzt3XmcXFWd9/HPlx0DAiEYVmkYgoqoCGEZUSfAIBCR6IwL6MgijjrCA47MI8s4giKvCc8IKC4gyKogIIggMkpEWkUFIRgIISARowQCIRBCEhRN/D1/nFPJTae6u7q7llu3v+/Xq15dd6mq3+1T91fnnnvuPYoIzMysutbqdABmZtZaTvRmZhXnRG9mVnFO9GZmFedEb2ZWcU70ZmYV50RvZtYASb2SPtzpOIbDiX4AuWAXSVq/07FYc0iaK+lPkpYWHlt3Oi4bmT7l+rSkyyRt1Om4ysKJvh+SeoC3AAEc1tFgrNneEREbFR5PDuXFktZuVWA2Iu+IiI2A3YE9gU8P5cWS1mlJVCXgRN+/I4G7gMuBo2ozJW0u6fuSXpB0j6TPS7qzsPzVkqZJek7SI5Le2/7QbSgkrSXpeklPSXo+H8m9prD8W5K+KumHkpYBb5G0gaRzJT2ea5Bfk7RBBzfDsoh4AvhfYFdJx0iaLWmJpMckfbS2nqRJkuZJOlnSU8Blef4USTPyPv47SQcX3n57Sb/I73ebpHHt3brhcaLv35HAVflxkKTxef5XgWXAlqQfgOKPwBhgGnA18ArgCOBrkl7bxrhteG4BJpDK9UHgm32Wvx/4LLAx8CvgC8AOwOvz63qA/2xTrDYASdsBk4HfAAuAQ4GXA8cA50navbD6lsBYYHvgI5L2Aq4E/i+wKfBWYG5h/ffn93kFsB7wH63clqaJCD/6PIA3A38FxuXph4F/B9bO819VWPfzwJ35+fuAn/d5r68Dp3d6m/xYWR5zgaXA8/nxvTrrjCM12Y3J098CLi0sXwv4M7B9Yd5bgEc7vX2j9dGnXP8AfA3YsM563wNOzM8nAX8BNigs/zpwXj+f0Qt8ujD9ceCHnd72Rh6VbZMaoaOA2yJiYZ6+Os/7NrAO8Hhh3eLz7YG9JT1fmLcOa9YOrbPeGRE/rk3kNvf/Bt5NSvJ/y4vGkY7eYPVy3hJYH7hf0sq3aWXA1pDVyhVA0iHA6cDOpB/olwEzC6s8ExF/LkxvB9w6wGc8VXj+ItAVJ3yd6PuQtCHwXmDt3G4HaafeFBgPLAe2BX6bl21XePnjwE8j4sA2hWvNcSTpUH9/Um1wc+AZVk/exdu8Pk2qCb4qIp5uV5A2NLm33A2k8r0pIv4q6Xv0X66Q9uG/a1OIbeM2+jW9E1gB7ALslh+vAX5O+sJ8FzhD0sskvTrPq7kF2FnSByWtmx97Fk/sWSltDLwEPEuq8Z010MoRsQL4BvBFSVso2VbS21ofqg3BeqRK2jPA8ly7H6yMLgGOkXRAPkm/Td7Pu5oT/ZqOAi6LiD9GxFO1B/AV4APA8cAmpEO4b5Kac14CiIglpC/S4cCTeZ2zSV82K6/LSOX1JDAL+GUDrzmJVPv/NbAYuI10UtZKIu+PJwDXAYtIJ1JvHuQ1vyaftCWV609JTbJdTfmkgg2TpLOBLSPiqEFXNjPrANfohyj3k399PlzfCzgWuLHTcZmZ9ccnY4duY1JzzdakPrrnADd1NCIzswG46cbMrOLcdGNmVnGlaLoZN25c9PT0rJxetmwZY8aM6VxALVC2bZo+ffrCiNiiXZ9XxjKuegwu41XKFAs0L56Gy7jTl+ZGBHvssUcU3XHHHVE1Zdsm4N4Y5WVc9RhcxquUKZaI5sXTaBm76cbMrOJK0XTT18wnFnP0KT8YcJ25U9/epmisFVzG1ecyLg/X6M3MKs6J3sys4pzozcwqbtBEL2k7SXfk4bhmSToxzx+bh8x7NP/dLM+XpPMlzZH0QJ/RXMzMrM0aqdEvB06KiNcA+wDHSdoFOAW4PSImALfnaYBDSHfxmwB8BLig6VGbmVnDBk30ETE/Iu7Lz5cAs4FtgCnAFXm1K0j3cSfPvzJ387wL2FTSVk2P3MzMGjKk7pWSeoA3AncD4yNiPqQfA0mvyKttw+rDrs3L8+b3ea+PkGr8jB8/nt7e3pXLxm8IJ71u+YCxFNfvBkuXLu26mM2sGhpO9JI2Ig3L9YmIeKEwVuYaq9aZt8ad0yLiIuAigIkTJ8akSZNWLvvyVTdxzsyBQ5v7gUkDLi+b3t5eittoZtYuDfW6kbQuKclfFRHfzbOfrjXJ5L8L8vx5rD6O6rakkXvMzKwDGul1I9I4irMj4tzCoptJw+6R/95UmH9k7n2zD7C41sRjZmbt10jTzb7AB4GZkmbkeacBU4HrJB0L/BF4T152KzAZmAO8SBp/0czMOmTQRB8Rd1K/3R3ggDrrB3DcCONqix7fh8NGEUlzgSXACmB5REyUNBa4FugB5gLvjYhF+Uj+S6RK24vA0bXed9Z9fGWs2eiyX0TsFhET87SvhxkFnOjNRjdfDzMKlPI2xdZ+PqwfFQK4TVIAX89dnEfF9TBlu46l3fFUNtEP1v5ude0XEQsL07XD+qmSTsnTJ7P6Yf3epMP6vdsdrA3ZvhHxZE7m0yQ9PMC6lboepmzXsbQ7Hjfd2EB8WF8hEfFk/rsAuBHYC18PMypUtkZvQzbqDuvLcDjfrhgkjQHWiogl+fnbgM+x6nqYqax5Pczxkq4hHa35epgu5kRvNaPusL4Mh/NtjGE8cGO+dck6wNUR8UNJ9+DrYSrPid6A1Q/rJa12WJ9r8z6s72IR8Rjwhjrzn6XLr4exwbmN3pA0RtLGteekw/oH8W0uzCrBNXoDH9abVZoTvfmw3qzi3HRjZlZxTvRmZhXnRG9mVnFuox9AI7dR8K2MzazsXKM3M6u4RoYSvFTSAkkPFuaNlTRN0qP572Z5viSdL2mOpAck7d7K4M3MbHCN1OgvBw7uM8+DFZiZdYlBE31E/Ax4rs9s39XQzKxLDPdk7Ijuagitv7PhYK9vlkbvPFiGOyWa2ejU7F43Dd3VEFp/Z8Oj2zTwSKN3WCzDnRJt9JK0HXAlsCXwN+CiiPiSpDOAfwWeyaueFhG35tecChxLGnXshIj4UdsDt6YYbqL3XQ3Nusty4KSIuC/fwG66pGl52XkR8YXiypJ2AQ4HXgtsDfxY0s4RsaKtUVtTDLd7pe9qaNZFImJ+bVzfiFgCzCY1q/ZnCnBNRLwUEb8n3cBur9ZHaq3QSPfKbwO/Al4laV6+k+FU4EBJjwIH5mlIdzV8jPSluBj4eEuiNrNhk9QDvBG4O886PneHvrTWVZr+z7dZFxq06SYijuhnke9qaNZlJG0E3AB8IiJekHQBcCbpXNqZwDnAh2jwfFvZh4usKVtniHbH41sgmI0SktYlJfmrIuK7ABHxdGH5xcAtebKh821lHy6ypmydIdodjxP9CA12PxzfC8fKQGlUmUuA2RFxbmH+VoXzaO8ijSwG6Xzb1ZLOJZ2MnQD8uo0hWxM50ZuNDvsCHwRmSpqR550GHCFpN1KzzFzgowARMUvSdcBDpB47x7nHTfdyojcbBSLiTuq3u986wGvOAs5qWVDWNr57pZlZxTnRm5lVnBO9mVnFuY2+xWq9ck563fJ+77/jnjlm1kqu0ZuZVZwTvZlZxbnpxsw6xhcctkfXJvrBviDW/ZwEzJrDTTdmZhXXtTX6KnHN1Wz4vP8MzjV6M7OKc6I3M6s4J3ozs4prWRu9pIOBLwFrA9+IiKmDvMT60UgPo3a3Q5ahfMv4f6mSMpSxNUdLavSS1ga+ChwC7EK65/Uurfgsaz+Xb/W5jKulVTX6vYA5EfEYgKRrSKPKP9Sizxv12tzzoDLl24zrMSp61FCZMm7ESL8HjXwHip9R795XrfwetSrR1xtBfu/iCsVBhYGlkh4pLB4HLGxRbB1xQoe3SWevMWv7EbzdoOUL5SjjOttd1JQYBvmMwbTy/9D1ZTzC/23xPVr6fRtqnPXywTC3taEyblWiH3QE+eKgwmu8WLo3Iia2IrBOqdg2DVq+UP4ydgwDqkQZ15QpFmh/PK3qddPQCPLWtVy+1ecyrpBWJfp7gAmSdpC0HnA4aVR5awFJvZI+3MaPrGT5SpokaV6n4yiJSpbxaNWSRB8Ry4HjgR8Bs4HrImLWEN6i7qEggKS5kv4kaamkpyVdJmmjEYbcDv1u02AknSHpW80MZiSaUL4wgv9Hoxr4rrQ8hgaUIYY1dEsZD0bSmyX9EthF0nOSfiFpz07HRZv/N4pYo9mt1CTNBT4cET+WtA3pi3hLRJzS2chaQ9I6wKeBnSLiX/pZpxf4VkR8o52xld1QvyuSJpH+j9u2L0prFUkvB/4I/BtwHbAe8BbgqYh4oJOxtVtXXxkbEU8A/wvsKukYSbMlLZH0mKSP1taTNE7SLZKez7/qP5e0Vl52sqQn8usekXRAnr+WpFMk/U7Ss5KukzQ2L+uRFJKOkvRHSQsl/Wfh8zaUdIWkRTmmTxWbBCRtLekGSc9I+r2kEwrLzpB0vaRvSXoBOLrvdks6UNLDkhZL+gr1T5xZQZ/vythcu38yl9H36r2mUP5LJD0k6V2FZTtJ+mkug4WSrs3zJek8SQvysgck7dqerbQ+dgaIiG9HxIqI+FNE3FZL8pI+lPfPRZJ+JGn7PP9NuUy3y9NvyLnj1Z3blJHp6kSfC2Iy8BtgAXAo8HLgGOA8SbvnVU8inVzaAhgPnAaEpFeRDk/3jIiNgYOAufk1JwDvBP4B2BpYRLqApOjNwKuAA4DPSHpNnn860APsCBwIrKyJ5x+Y7wP3k7qwHQB8QtJBhfedAlwPbApc1WebxwE3kGr544DfAfsO/t8a3fp8V74JvAx4LfAK4Lx+XvY7Ug1wE+CzwLckbZWXnQncBmxGOlH55Tz/bcBbSUlmU+B9wLNN3hxrzG+BFbnSdYikzWoLJL2TlAf+iZQXfg58GyAifgl8HbhC0oak78unI+Lhdm9A00REqR7AwcAjwBzglDrL5wJLgeeBPwBfAzass973gBPz888BN5GaP4rr7ET6gfhHYN0+y2YDBxSmtwL+SuqS2kPqarZtYfmvgcPz88eAp4CZwIwc8zxgLHB3fp9pwGZ5/VOBy/LzM4Cf9YnlDFKTAsCRwF2FZcrv/eFOl12zyriJn/M4sBxYAfyFtDNvBfwNuAN4tE85TAKW5LgeAHbv834zgCn5+ZWkdtZt+6yzPynB7AOsleetTfqBuSVP75C/B48C1wLr5fnr5+k5eXlPp8uqGeXZru0i9RK6I++7s4ATgdcAl+d9ZDnwC+CF/Pgj8Jn82rWAF4Ht8/S6wPS8D/+Q3Mw9jJjmFvLAvXWWCzi/v+9c0/43nf6S9NnotUm1qB1J7Wn3A7vU+cf9Y53XHgLcBTxH+hH4C3BmXrYxcA4pAT9W/DIC7wfuJNXYrwG2zvNfzF+G5wuPP5Nq4T2kRL9O4X16yck2r/cEMC5PH5S/aP+PVENfDvwpr/c8Kbncmtc9A7iqz7adwapEfwrwnT7Lf0WXJPpGyriJn/U48LHCd+C3pBr2i7XvQP5/np2fn5zLRKRE/bu8g9bKfzlwbF53S+BiUpfDWcCHCp97AilJPEP6MTgVuJpVif46VlUKLgT+LT//OHBhfn44cG2ny6sZ5dmu7SL9iO/ep7x3KSx/NekH6QnSFb61CmPt8SfgTYX1/0/ezw8cQUxza3mgn+WTSU2Kte/c3a3435St6WblZdcR8RdS4p0y2IskrU9qzvgCMD4iNgVuJbddR8SSiDgpInYE3gF8stYWHxFXR8SbSVeYBVC7Pu1x4JCI2LTw2CBSW+9g5pN2gJpaf+QppMPD35N2jD/k9904IiYX1h/oDPn8wvshSaze37nshlXGw7SCVFMiIpaQanoAGwI35udXkJroIDWBLYu0B84n1bxPBzbP36kHWfWdeioi/jUitgY+CnxN0k552fkRsQepaeh1pCtHvwEry2t/UtNc38+fkqfJyw/I65dZI+XZlu2KiPkRcV9+XivvbQrLHybVzjcm7d8f7bN/bxip2YZ88v504DLgnJxjWmEKcGUkdwGbFpoHm6Zsib7eZdfb9LNu0Xqkw8NngOWSDiG1lQIg6dB88kykWvoKUtvdqyTtnwvxz6Rf9BX5ZRcCZxVO0GwhqdGEdB2pXfd2SQ+QvjCQzg/8b47hSOAVktaWtKsa7/L1A+C1kv5JqUfOCaTaZbcYbhmPiKQe4I2k//9y4PTcZruQdA4GUlttrfzHkI/a8uuPAXYtvN97JNV65yzK666QtKekvSWtCywj/VjcRmouAtgceD5S90VYfftX/m/y8sV5/TJrpDzbvl25vPcE9qyVUz5Psz8pX+wMXCjpsLxsE0nvyc9Fau65BDiW9KN/5jBDCeA2SdOVbhfRV1v2h7Il+oYuu15jhfTrfQIpwS4iNccUL+6YAPyYdKj2K+BrEdFL+nGYStrZnyKdmDstv+ZL+T1uk7SE1Cy0xr0++vE5UkLeHtiAlCxqNcEVpKOK3Ug/BgtJtb1NGnnjiFgIvCfH/Wzetl80GFcZDKuMR/SBqe/8DcAnIuIFUtPNX4GHSedo1qitRcRDpDbcS4GnSTXz4v95T+BuSUtJ35MTI+L3pM4AF5O+h0+SftRPKoZTJ8RoYFlZNRJzW7erUN6fIe1nd0taRtqH7wF2iIgdSCdcv5N7tz1Iav6FlEvGA/+Vj+6OAY6R9JZhhLNvROye3/s4SW/tG26d1zT/f9OK9qARtGf9PfCjwvSpwKmdjqsJ23ULqR3zEWCrPG8r4JFOx1b1MiadVPsR8MnCvLrlQNrxj6i33jA/+79JNbS5pIrEi6RzNAvJ53eK/48c59/n5+vk9YZ1ErBM5dnO7apX3oOsP5cB2tCbHNsZwH/0mdfU71x/j7LV6Ctx2bWkHXNf97Uk7UbqQjmNtC1H5dWOIvUEGm3aVsb5EPwSYHZEnFtY1F853AwcmfvC7wMsjoj5w/38iDg1IraNiB7Sdv4kIj5A6hny7n4+vxbXu/P6Za/RN1KebdmuAcq7uM6WtfMDkvYitWq0pPurpDGSNq49JzUnP9hntaZ+5/rVqZrAAL96k0lny38H/Gen4xnmNryZVe39fyX16lmP1C55O6lb3e3A2E7HWuUyzuUQpG5rM/Jjcn/lQDqM/mqOayYwsYmxTGJVr5sdSd1x5wDfAdbP8zfI03Py8h07XVbDLU9S8+Vh7dyuAcr7Y6zqfXU8qZfU/aSmnDe1IpZCOd+fH7MK/5tiPC37zhUfXXcLBDMzG5qyNd2YmVmTtWxw8KEYN25c9PT0rJxetmwZY8aM6VxAI9QN8U+fPn1hRGzRrs/r5jLullj7xukybly3xDrsMu50+15EsMcee0TRHXfcEd2sG+KnzuXYrXx0cxl3S6x943QZN65bYh1uGbvpxsys4krRdNPXzCcWrzFCejepN8J7p7VyhHlrvZ4Gvk+XH1z+pgfrXyvL2DV6M7OKc6I3M6s4J3ozs4pzojcbJZQGS58paYake/O8sZKmSXo0/90sz5ek8yXNURoOcfeB393KzInebHTZLyJ2i4iJefoU4PaImEC6HURt4PRDSHdGnUC6n/4FbY/UmsaJ3mx0Kw4K0ncQlJYPiGHtUcruldYZktYG7gWeiIhDJe1AGjFoLHAf8MGI+EseqOVKYA/Snf/eFxFzOxS2Na42CEYAX4+Ii0gjss2HNEKTpFfkdfsbEGO1OyvmwTQ+AjB+/Hh6e3tXLlu6dOlq02VWhlhPet3yQdcZbpxO9FZ0Imn4tZfn6bOB8yLiGkkXkkbbuSD/XRQRO0k6PK/3vk4EbEOyb0Q8mZP5NEkPD7BuQwNi5B+LiwAmTpwYkyZNWrmst7eX4nSZlSHWRq69ufzgMcOK0003BkAebu3tVHds01EvIp7MfxeQxszdC3i61iST/y7Iq89j9bGItyWNmGVdyDV6q/ki8CnSwMkwhLFNJdXGAF1YfEMf1jfPSA/r88AXa0XEksIgGJ9j1aAgU1lzEJTjJV1DGkKzNQNiWFs40RuSDgUWRMR0SZNqs+usOqSxTX1Y3zxNOKwfD9yYD7zWAa6OiB9Kuge4TtKxpDFy35PXv5U0aMcc0hCIx4wkfussJ3oD2Bc4TNJk0mhALyfV8DeVtE6u1RcP3WuH9fMkrUMa2Py59odtjYqIx4A31Jn/LGmoy77zAziuDaFZG7iN3ojRMbap2ajlRG8DORn4pKQ5pDb4S/L8S4DN8/xPsuoiGzMrITfd2Goiohfozc8fI/XM6LvOn1nVlmtmJecavZlZxTnRm5lVnBO9mVnFOdGbmVWcE72ZWcU50ZuZVdyIuldKmgssAVYAyyNioqSxwLVADzAXeG9ELBpZmGZmNlzNqNE3OmKNmZl1QCuabvobscbMzDpgpFfGDmXEmtUMdAvb8Rs2dlvWsipj/J2+za6Zdc5IE/1QRqxZzUC3sP3yVTdxzszuvTvDSa9bXrr4535gUqdDsFFm5hOLB7298typb29TNKPbiJpuhjhijZmZdcCwE72kMZI2rj0njVjzIKvfwrZ4a1szM+uAkdToxwN3Srof+DXwg4j4IWlIsgMlPQocmKfNrIMkbSfpDkmzJc2SdGKef4akJyTNyI/JhdecKmmOpEckHdS56G2kht2QPNQRa8yso5YDJ0XEfflIfLqkaXnZeRHxheLKknYhDULzWmBr4MeSdo6IFW2N2prCV8baQLW9sZKmSXo0/90sz5ek83Nt7wFJu3d2C2wwETE/Iu7Lz5cAs1k12Hs9U4BrIuKliPg9aezYNcYmsO5Qrq4h1in91faOJl38NlXSKaSL304GDgEm5MfewAX5b8PcI6NzJPUAbwTuJo0XfLykI4F7Sd+DRaQfgbsKL5tHnR+GkXaTLku336VLl3Y8lka6ZA83Tid6I1/3ULv2YYmkWm1vCjApr3YFaeSpk/P8K/M4sXdJ2lTSVrXrJ6y8JG0E3AB8IiJekHQBcCbpmpgzgXOADwGq8/I1xgUeaTfpsnT77e3tpRh7JwxW8QG4/OAxw4rTid5W06e219/Fb9sAjxdeVqvtrZboXdtrnmbU9iStS0ryV0XEdwEi4unC8ouBW/LkPGC7wsu3BZ4catxWDk70tlKd2l6/q9aZ59peC420tqdUmJcAsyPi3ML84pHYu0hdpCF1k75a0rmkk7ETSL3rrAs50RtQv7ZHvvgt1+aLF7+NqtreYOcTuuRcwr7AB4GZkmbkeacBR0jajfRDPRf4KEBEzJJ0HfAQ6RzOce5x072c6K3f2h6rLn6byuoXv91MOoF3Dekk7GK3z5dbRNxJ/SOxWwd4zVnAWS0LytrGid6g/9reVOA6SccCfwTek5fdCkwmdbl7ETimveGa2VA40dtAtT2oc/Fb7m1zXEuDMrOm8QVTZmYV50RvZlZxTvRmZhXnRG9mVnFO9GZmFedEb2ZWcU70ZmYV50RvZlZxTvRmZhXnRG9mVnFO9GZmFedEb2ZWcU70ZmYV50RvZlZxLUv0kg6W9IikOZJOadXnWGe4fKvPZVwdLUn0ktYGvgocAuxCGq5sl1Z8lrWfy7f6XMbV0qoa/V7AnIh4LCL+AlwDTGnRZ1n7uXyrz2VcIa0aYWob4PHC9DzS2KIrSfoI8JE8uVTSI4XF44CFLYqt5U4oYfw6e41Z24/g7QYtXxh5GdeJuVMGjLUsce539hpxuowbV7p9tp7hlnGrEn29YelitYmIi4CL6r5YujciJrYisHbo9vgbMGj5QnXKuFtibXKcLuMSGm6crWq6mQdsV5jeFniyRZ9l7efyrT6XcYW0KtHfA0yQtIOk9YDDgZtb9FktI+kDkm4rTIeknToZU0lUonyHQtKFkv6rBe97hqRvNft9m2DUlXGVtSTRR8Ry4HjgR8Bs4LqImDWEt6h7KNgqkt4s6ZeSFkt6TtIvJO0ZEVdFxNsafI/1JJ0jaR6wq6TfSzqvxaF3RBPKF5pUxv2VXTPeu+CiiPhYRJzZ5PdttqbtN2Uq4zbplliHFaci1mh2G1UkvRz4I/BvwHXAesBbgKci4oE+6wYwISLm1Hmf04H9gSOA+aSTJG+NiCtbuwWj11DKbpD3EWlf+FtLAh34s88AdoqIf2n3Z9vo4StjYWeAiPh2RKyIiD9FxG0R8YCkoyXd2Wf9yZIek7RQ0v9Iqv0P9wRujIgnI5lbTPKS5ko6VdJDkhZJukzSBm3axqoaqOxWaxKR1JOb3tbJ072SzpL0C+BF4DRJ9xbfXNK/S7o5P79c0ufz89mSDi2st07+Puyep/fJRxnPS7pf0qTCujtI+qmkJZKmkXp7mLWUEz38Flgh6QpJh0jabJD13wVMBHYn9Sv+UJ5/F/BJSR+X9LpcS+zrA8BBwN+RktSnm7IFo9dQy66vD5K6Bm4MfBl4laQJheXvB66u87pvk47cag4CFkbEfZK2AX4AfB4YC/wHcIOkLfK6VwPTSQn+TOCoIcZsNmSlS/Ttvuw6Il4A3kzqOnYx8IykmyWN7+clZwP3kXbmDYFz8/wLgWXAOcD9wJOSjlJyPqlf8qbAFhHxHHAWqyeLUUHSpZIWSHpwpO81jLLr6/KImBURyyNiMXATuUwkvQV4I3CGpFnAawqvuxo4TNLL8nTxB+FfgFsj4taI+FtETAPuJR0JvpJ05PdfEfFSRPwM+P4wN58c5waSfp2PHGZJ+uxI3m+YMQy4z0paX9K1efndknraHWOOY7A4j5b0jKQZ+fHhDsU54D5Syyl5Ox6oHUkOpFSJXh267DoiZkfE0RGxLbArsDXwxX5Wr11Esh/wMeCJPP0p4IqI2BD4DDATuJRUY5yQ1zsXuCCv/4f8OaPN5cDBzXqzIZZdX4/3mb6aVT++hwE/iohXA/sAryY3s+RzNLOBd+RkfxirEv32wHtys83zkp4n/RhtlWNbFBHLCp/5h8a3tq6XgP0j4g3AbsDBkvYZ4Xs2rMF99ljSdu8EnEeqLLXVEHLLtRGxW358o61BrnI5A+8jh5ByygRSfrlggHWBkiV6SnDZdUQ8TPpH79rPKsW+xa9kVd/iKcAV+fnunm6kAAANEklEQVQlpB1+EfDPQK2t/kVgU0lb9XntqJFrsc+16L2LZbcMeFlh8Zb1XtJn+jZgnKTdgHcAX8nvuwRYTGriqak130wBHiqcoH8c+GZEbFp4jImIqaST9JtJGlN4n1cOfUsLG5AszZPr5kc7e1g0ss8W943rgQP6adpspY7nlkY1sI9MAa7MZX8Xq3JKv8qW6Otddr1NKz9Q0qslnSRp2zy9HWkHvqufl/xf0lWDd5BqJ7Vk/UpSG++GwDOkC0w2Jl19XNum4/Ky1wCnAdc2fYNGkUHKbgbwVkmvlLQJcOpg75e7FF4P/A+pfX1aft+ePP1EYfVrgLeRevwU2/G/RarpHyRp7dy0MknSthHxB1IzzmeVuuO+mfSDMiL5c2YAC4BpEXH3SN9zCBrZZ1euk//Hi4HN2xJdnRiy/nLLP+fmkOvz96mMhpwny5boG7rsusmWkO7hcbekZaQk8SBwUj/r35T/bk1qmnm9pLfmOM8BniLdi2J9Um3+T4XXXk1q970JeIx0ws6Gr9+yy23j1wIPkE5+3tLge14N/CPwnYhYLmkj4Abg18BfaitFxHzgV8CbKPxgR8TjpBrXaaQf9cdJlYPavvb+HPNzwOmsOtobttzjaDdS5WIvSf0djbZCI/tsJ/brvhqJ4ftAT0S8Hvgxq45CymbI/89W3etmuNp+2XVEPAG8t5/Fl+dHbd3aP/j82jylftB7kXboQyNifj6M6o2IWyS9g1XbdA9pGyflRGEjMEjZERHHkY6iai4uLJvUz2t+Tt6RJK1LSvJXRcS5ddY9oJ/3uBv4h36WPUbq6990EfG8pF5S++6IT3Y3qJF9trbOPKXurZvQoua7AQwaZ0Q8W5i8mA6cS2jQkPNk2Wr0pb/sWtIYSRvXnpMO3x8kxVnrKncUq2r+NwNH5uevARY7yZdfbkO+BJhdL8mXhaQtJG2an29IOhp5uI0hNLLPFveNdwM/ifZfqTlonH3auQ8jnXAvo5uBI3Pvm31oJKdERKkewGRS/+jfAf/Z6XjqxLcjqfvk/cCsWoykNsfbgUfz37F5vkhn+/9Kaq6Z2Olt6PD/79ukk5J/JdVMju10TP3EWeu2+QCpvX8GMLnTcdWJ8/XAb3KcDwKf6UAMa+yzwOeAw/LzDYDvAHNITWA7duh/NVic/5336ftJ5+Be3aE419hHSD38PpaX13LK70i9+wbNKaP+FghmZlVXtqYbMzNrslKcjB03blz09PSsnF62bBljxozp/wVdqGzbNH369IURscXgazZHN5dxt8TaN852l7GVVykSfU9PD/feu+p+Ur29vUyaNKlzAbVA2bZJ0kivyBySbi7jbom1b5ztLmMrLzfdmJlVXClq9H3NfGIxR5/ygwHXmTv17W2KxlrBZWzWPq7Rm5lVnBO9mVnFOdGbmVWcE72ZWcU50ZuZVZwTvZlZxTWU6CXNlTQzj6N4b543VtI0SY/mv5vl+UMez9DMzFpnKDX6/SKNozgxT58C3B4RE0h3a6wNtjvk8QzNzKx1RtJ0UxwH8grgnYX5QxrP0MzMWqfRK2MDuE1SAF+PiIuA8ZFvdh9pVKVX5HX7G89wtRvjS/oIqcbP+PHj6e3tXbls/IZw0uuWDxhQcf1usHTp0q6L2cyqodFEv29EPJmT+TRJA41g09B4hvnH4iKAiRMnRvFmTF++6ibOmTlwaHM/MGnA5WXTLTfGMrPqaajpJiKezH8XADeSxkh9utYkk/8uyKu3fdxXMzPr36CJfrhjpA5pPEMrBUlrS/qNpFvy9A6S7s49q67NY20iaf08PScv7+lk3GY2sEZq9OOBOyXdTxrv8QcR8UNgKnCgpEeBA/M0wK2ksVHnkEZS/3jTo7ZWOZHVB0Q+Gzgv96xaRBq7kvx3UUTsBJyX1zOzkhq0jT4iHgPeUGf+s8ABdeYHcFxTorO2kbQt8HbgLOCTkgTsD7w/r3IFcAapu+yU/BzgeuArkhQegNislEp5P3rriC8CnwI2ztObA89HRK37U633FBR6VkXEckmL8/oLi29YlZ5V3dJjqlvitPZzojckHQosiIjpkibVZtdZNRpYtmpGRXpWdUuPqW6J09rPid4A9gUOkzQZ2AB4OamGv6mkdXKtvth7qtazap6kdYBNgOfaH7aZNcI3NTMi4tSI2DYieoDDgZ9ExAeAO4B359X69qyq9bh6d17f7fNmJeVEbwM5mXRidg6pDf6SPP8SYPM8/5Osus+RmZWQm25sNRHRC/Tm54+RLo7ru86fgfe0NTAzGzYnerMu0HPKDwZd5/KDx7QhEutGbroxM6s4J3ozs4pzojczqzgnejOzinOiNzOrOCd6M7OKc6I3M6s4J3ozs4prZISp7STdIWm2pFmSTszzz5D0hKQZ+TG58JpT8+hDj0g6qJUbYGZmA2vkytjlwEkRcV8eUnC6pGl52XkR8YXiypJ2Id0Y67XA1sCPJe0cESuaGbiZmTVm0Bp9RMyPiPvy8yWkoea2GeAlU4BrIuKliPg9aUjBNe6XYmZm7TGke93kQaDfCNxNuof58ZKOBO4l1foXkX4E7iq8rDgyUfG9KjH6UKPKPPqPpO2AK4Etgb8BF0XElySNBa4FeoC5wHsjYlEeZvBLwGTgReDoWmXAzMqn4UQvaSPgBuATEfGCpAuAM0kjC50JnAN8iFE2+lCjSj76T3/Nc0cDt0fEVEmnkG5HfDJwCDAhP/YmjSO7d0ciN7NBNdTrRtK6pCR/VUR8FyAino6IFRHxN+BiVjXP1EYfqimOTGQlNEDz3BTSoODkv+/Mz6cAV0ZyF2kkqq3aHLaZNWjQGn0+TL8EmB0R5xbmbxUR8/Pku4AH8/ObgaslnUs6GTsB+HVTo7aW6dM8N75WxhExX9Ir8morBwfPas1z8wvzKtM8V4Zmt8H+V1COOK2cGmm62Rf4IDBT0ow87zTgCEm7kZpl5gIfBYiIWZKuAx4iNQkc14oeN4Pdn3vu1Lc3+yMrr07zXL+r1plX2ea5MjS7Hd3g/eg7HaeV06CJPiLupP6OfesArzkLOGsEcVmb1WueA56uHbnlppkFeb6b58y6iK+MtX6b51h9EPC+g4MfqWQfYHGhGc/MSsZDCRr03zw3FbhO0rHAH1k1TuytpK6Vc0jdK49pb7hmNhRO9DZQ8xzAAXXWD+C4lgZlZk3jphszs4pzojczqzgnejOzinOiNzOrOCd6M7OKc6I3M6s4J3ozs4pzojczqzgnejOzinOiNzOrOCd6M7OKc6I3M6u4lt3UTNLBpAGk1wa+ERFTW/VZ9Qw2MAl4cJKR6HT5mlnjWpLoJa0NfBU4kDRIxT2Sbo6Ih1rxecPVjFGqRuNIV91SvmaWtKpGvxcwJyIeA5B0DWlA6VGXCGo/BCe9bnm/w8E148egzT84Ll+zLtKqRF9v8Oi9iysUB44Glkp6pLB4HLCwRbE1TGc3771OGGCbmvk5/anzGduP4O0GLV8YeRm34//SoFJ8Hwez39lrxDmSMrYKaVWiH3Tw6OLA0Wu8WLo3Iia2IrBOqdg2DXlw8DXeoIv+H90Sa7fEae3Xql43Hjy62ly+Zl2kVYn+HmCCpB0krQccThpQ2qrB5WvWRVrSdBMRyyUdD/yI1P3u0oiYNYS3qHu43+Uqs01NKF/orv9Ht8TaLXFamymN82xmZlXlK2PNzCrOid7MrOJKl+glHSzpEUlzJJ3S6XiaQdJcSTMlzZB0b6fjaafBylPS+pKuzcvvltTT/igbivNoSc/kMpwh6cMdivNSSQskPdjPckk6P2/HA5J2b3eMVj6lSvSFS+sPAXYBjpC0S2ejapr9ImK30dTPucHyPBZYFBE7AecBbb9Magjfu2tzGe4WEd9oa5CrXA4cPMDyQ4AJ+fER4II2xGQlV6pET+HS+oj4C1C7tN66UyPlOQW4Ij+/HjhAUr0Lslqpa753EfEz4LkBVpkCXBnJXcCmkrZqT3RWVmVL9PUurd+mQ7E0UwC3SZqebwswWjRSnivXiYjlwGJg87ZEVyeGrL/v3T/n5pDrJW1XZ3kZVHUfshEoW6Jv6NL6LrRvROxOOqw+TtJbOx1QmzRSnmUo80Zi+D7QExGvB37MqqOQsinD/9NKpmyJvpKX1kfEk/nvAuBGUlPBaNBIea5cR9I6wCYM3DTRCoPGGRHPRsRLefJiYI82xTZUldyHbGTKlugrd2m9pDGSNq49B94G1O0xUUGNlOfNwFH5+buBn0T7r+IbNM4+7dyHAbPbGN9Q3AwcmXvf7AMsjoj5nQ7KOqtlI0wNR5MurS+b8cCN+fziOsDVEfHDzobUHv2Vp6TPAfdGxM3AJcA3Jc0h1eQPL2mcJ0g6DFie4zy63XECSPo2MAkYJ2kecDqwLkBEXAjcCkwG5gAvAsd0Ik4rF98Cwcys4srWdGNmZk3mRG9mVnFO9GZmFedEb2ZWcU70ZmYV50RvZlZxTvRmZhX3/wEIqK/YMJ4/5gAAAABJRU5ErkJggg==\n",
      "text/plain": [
       "<Figure size 432x288 with 9 Axes>"
      ]
     },
     "metadata": {},
     "output_type": "display_data"
    }
   ],
   "source": [
    "#Histogramas\n",
    "train_df.hist()\n",
    "plt.show()"
   ]
  },
  {
   "cell_type": "code",
   "execution_count": 53,
   "metadata": {},
   "outputs": [
    {
     "data": {
      "image/png": "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\n",
      "text/plain": [
       "<Figure size 432x288 with 64 Axes>"
      ]
     },
     "metadata": {},
     "output_type": "display_data"
    }
   ],
   "source": [
    "#scatter plot\n",
    "scatter_matrix(train_df)\n",
    "plt.show()"
   ]
  },
  {
   "cell_type": "code",
   "execution_count": 4,
=======
   "execution_count": 104,
>>>>>>> 2647867a205789b1da4117883f62add01f51dcf5
   "metadata": {},
   "outputs": [
    {
     "data": {
      "text/plain": [
       "Index(['PassengerId', 'Survived', 'Pclass', 'Name', 'Sex', 'Age', 'SibSp',\n",
       "       'Parch', 'Ticket', 'Fare', 'Cabin', 'Embarked'],\n",
       "      dtype='object')"
      ]
     },
<<<<<<< HEAD
     "execution_count": 4,
=======
     "execution_count": 104,
>>>>>>> 2647867a205789b1da4117883f62add01f51dcf5
     "metadata": {},
     "output_type": "execute_result"
    }
   ],
   "source": [
    "train_df.keys()"
   ]
  },
  {
   "cell_type": "code",
<<<<<<< HEAD
   "execution_count": 54,
   "metadata": {},
=======
   "execution_count": 105,
   "metadata": {
    "collapsed": true
   },
>>>>>>> 2647867a205789b1da4117883f62add01f51dcf5
   "outputs": [],
   "source": [
    "#Spliting the dataset into train and test data set for descision tree\n",
    "x_train,x_test,y_train,y_test = train_test_split(train_x,train_y, test_size=0.3,random_state=22)"
   ]
  },
  {
   "cell_type": "code",
<<<<<<< HEAD
   "execution_count": 6,
   "metadata": {},
=======
   "execution_count": 106,
   "metadata": {
    "collapsed": true
   },
>>>>>>> 2647867a205789b1da4117883f62add01f51dcf5
   "outputs": [],
   "source": [
    "# Vamos definir o algoritmo, usando como critério entropia, indicando o número de atributos =4 e o número mínimo de folhas =5\n",
    "clf = tree.DecisionTreeClassifier(class_weight=None, criterion='entropy', max_depth=3,\n",
    "            max_features=None, max_leaf_nodes=None, min_samples_leaf=5,\n",
    "            min_samples_split=2, min_weight_fraction_leaf=0.0,\n",
    "            presort=False, random_state=100, splitter='best')"
   ]
  },
  {
   "cell_type": "code",
<<<<<<< HEAD
   "execution_count": 7,
   "metadata": {},
=======
   "execution_count": 107,
   "metadata": {
    "collapsed": true
   },
>>>>>>> 2647867a205789b1da4117883f62add01f51dcf5
   "outputs": [],
   "source": [
    "#apply model to a decision tree\n",
    "clf = clf.fit(x_train,y_train)\n",
    "\n"
   ]
  },
  {
   "cell_type": "code",
<<<<<<< HEAD
   "execution_count": 8,
=======
   "execution_count": 117,
>>>>>>> 2647867a205789b1da4117883f62add01f51dcf5
   "metadata": {},
   "outputs": [
    {
     "data": {
      "image/svg+xml": [
       "<?xml version=\"1.0\" encoding=\"UTF-8\" standalone=\"no\"?>\r\n",
       "<!DOCTYPE svg PUBLIC \"-//W3C//DTD SVG 1.1//EN\"\r\n",
       " \"http://www.w3.org/Graphics/SVG/1.1/DTD/svg11.dtd\">\r\n",
       "<!-- Generated by graphviz version 2.38.0 (20140413.2041)\r\n",
       " -->\r\n",
       "<!-- Title: Tree Pages: 1 -->\r\n",
       "<svg width=\"2091pt\" height=\"477pt\"\r\n",
       " viewBox=\"0.00 0.00 2091.00 477.00\" xmlns=\"http://www.w3.org/2000/svg\" xmlns:xlink=\"http://www.w3.org/1999/xlink\">\r\n",
       "<g id=\"graph0\" class=\"graph\" transform=\"scale(1 1) rotate(0) translate(4 473)\">\r\n",
       "<title>Tree</title>\r\n",
       "<polygon fill=\"white\" stroke=\"none\" points=\"-4,4 -4,-473 2087,-473 2087,4 -4,4\"/>\r\n",
       "<!-- 0 -->\r\n",
       "<g id=\"node1\" class=\"node\"><title>0</title>\r\n",
       "<path fill=\"#e58139\" fill-opacity=\"0.380392\" stroke=\"black\" d=\"M1087,-469C1087,-469 981,-469 981,-469 975,-469 969,-463 969,-457 969,-457 969,-413 969,-413 969,-407 975,-401 981,-401 981,-401 1087,-401 1087,-401 1093,-401 1099,-407 1099,-413 1099,-413 1099,-457 1099,-457 1099,-463 1093,-469 1087,-469\"/>\r\n",
       "<text text-anchor=\"middle\" x=\"1034\" y=\"-453.8\" font-family=\"Helvetica,sans-Serif\" font-size=\"14.00\">X[6] &lt;= 0.5</text>\r\n",
       "<text text-anchor=\"middle\" x=\"1034\" y=\"-438.8\" font-family=\"Helvetica,sans-Serif\" font-size=\"14.00\">entropy = 0.959</text>\r\n",
       "<text text-anchor=\"middle\" x=\"1034\" y=\"-423.8\" font-family=\"Helvetica,sans-Serif\" font-size=\"14.00\">samples = 623</text>\r\n",
       "<text text-anchor=\"middle\" x=\"1034\" y=\"-408.8\" font-family=\"Helvetica,sans-Serif\" font-size=\"14.00\">value = [385, 238]</text>\r\n",
       "</g>\r\n",
       "<!-- 1 -->\r\n",
       "<g id=\"node2\" class=\"node\"><title>1</title>\r\n",
       "<path fill=\"#399de5\" fill-opacity=\"0.698039\" stroke=\"black\" d=\"M826,-365C826,-365 728,-365 728,-365 722,-365 716,-359 716,-353 716,-353 716,-309 716,-309 716,-303 722,-297 728,-297 728,-297 826,-297 826,-297 832,-297 838,-303 838,-309 838,-309 838,-353 838,-353 838,-359 832,-365 826,-365\"/>\r\n",
       "<text text-anchor=\"middle\" x=\"777\" y=\"-349.8\" font-family=\"Helvetica,sans-Serif\" font-size=\"14.00\">X[1] &lt;= 2.5</text>\r\n",
       "<text text-anchor=\"middle\" x=\"777\" y=\"-334.8\" font-family=\"Helvetica,sans-Serif\" font-size=\"14.00\">entropy = 0.782</text>\r\n",
       "<text text-anchor=\"middle\" x=\"777\" y=\"-319.8\" font-family=\"Helvetica,sans-Serif\" font-size=\"14.00\">samples = 215</text>\r\n",
       "<text text-anchor=\"middle\" x=\"777\" y=\"-304.8\" font-family=\"Helvetica,sans-Serif\" font-size=\"14.00\">value = [50, 165]</text>\r\n",
       "</g>\r\n",
       "<!-- 0&#45;&gt;1 -->\r\n",
       "<g id=\"edge1\" class=\"edge\"><title>0&#45;&gt;1</title>\r\n",
       "<path fill=\"none\" stroke=\"black\" d=\"M968.816,-408.129C931.801,-393.439 885.442,-375.039 847.573,-360.009\"/>\r\n",
       "<polygon fill=\"black\" stroke=\"black\" points=\"848.724,-356.701 838.138,-356.265 846.142,-363.207 848.724,-356.701\"/>\r\n",
       "<text text-anchor=\"middle\" x=\"848.048\" y=\"-375.517\" font-family=\"Helvetica,sans-Serif\" font-size=\"14.00\">True</text>\r\n",
       "</g>\r\n",
       "<!-- 16 -->\r\n",
       "<g id=\"node17\" class=\"node\"><title>16</title>\r\n",
       "<path fill=\"#e58139\" fill-opacity=\"0.780392\" stroke=\"black\" d=\"M1341,-365C1341,-365 1243,-365 1243,-365 1237,-365 1231,-359 1231,-353 1231,-353 1231,-309 1231,-309 1231,-303 1237,-297 1243,-297 1243,-297 1341,-297 1341,-297 1347,-297 1353,-303 1353,-309 1353,-309 1353,-353 1353,-353 1353,-359 1347,-365 1341,-365\"/>\r\n",
       "<text text-anchor=\"middle\" x=\"1292\" y=\"-349.8\" font-family=\"Helvetica,sans-Serif\" font-size=\"14.00\">X[5] &lt;= 7.91</text>\r\n",
       "<text text-anchor=\"middle\" x=\"1292\" y=\"-334.8\" font-family=\"Helvetica,sans-Serif\" font-size=\"14.00\">entropy = 0.678</text>\r\n",
       "<text text-anchor=\"middle\" x=\"1292\" y=\"-319.8\" font-family=\"Helvetica,sans-Serif\" font-size=\"14.00\">samples = 408</text>\r\n",
       "<text text-anchor=\"middle\" x=\"1292\" y=\"-304.8\" font-family=\"Helvetica,sans-Serif\" font-size=\"14.00\">value = [335, 73]</text>\r\n",
       "</g>\r\n",
       "<!-- 0&#45;&gt;16 -->\r\n",
       "<g id=\"edge16\" class=\"edge\"><title>0&#45;&gt;16</title>\r\n",
       "<path fill=\"none\" stroke=\"black\" d=\"M1099.1,-408.261C1136.4,-393.517 1183.22,-375.004 1221.4,-359.912\"/>\r\n",
       "<polygon fill=\"black\" stroke=\"black\" points=\"1222.9,-363.084 1230.91,-356.152 1220.32,-356.574 1222.9,-363.084\"/>\r\n",
       "<text text-anchor=\"middle\" x=\"1220.97\" y=\"-375.391\" font-family=\"Helvetica,sans-Serif\" font-size=\"14.00\">False</text>\r\n",
       "</g>\r\n",
       "<!-- 2 -->\r\n",
       "<g id=\"node3\" class=\"node\"><title>2</title>\r\n",
       "<path fill=\"#399de5\" fill-opacity=\"0.952941\" stroke=\"black\" d=\"M430,-261C430,-261 338,-261 338,-261 332,-261 326,-255 326,-249 326,-249 326,-205 326,-205 326,-199 332,-193 338,-193 338,-193 430,-193 430,-193 436,-193 442,-199 442,-205 442,-205 442,-249 442,-249 442,-255 436,-261 430,-261\"/>\r\n",
       "<text text-anchor=\"middle\" x=\"384\" y=\"-245.8\" font-family=\"Helvetica,sans-Serif\" font-size=\"14.00\">X[2] &lt;= 26.5</text>\r\n",
       "<text text-anchor=\"middle\" x=\"384\" y=\"-230.8\" font-family=\"Helvetica,sans-Serif\" font-size=\"14.00\">entropy = 0.258</text>\r\n",
       "<text text-anchor=\"middle\" x=\"384\" y=\"-215.8\" font-family=\"Helvetica,sans-Serif\" font-size=\"14.00\">samples = 115</text>\r\n",
       "<text text-anchor=\"middle\" x=\"384\" y=\"-200.8\" font-family=\"Helvetica,sans-Serif\" font-size=\"14.00\">value = [5, 110]</text>\r\n",
       "</g>\r\n",
       "<!-- 1&#45;&gt;2 -->\r\n",
       "<g id=\"edge2\" class=\"edge\"><title>1&#45;&gt;2</title>\r\n",
       "<path fill=\"none\" stroke=\"black\" d=\"M715.594,-314.063C644.005,-295.482 526.05,-264.868 451.82,-245.602\"/>\r\n",
       "<polygon fill=\"black\" stroke=\"black\" points=\"452.653,-242.202 442.094,-243.078 450.894,-248.978 452.653,-242.202\"/>\r\n",
       "</g>\r\n",
       "<!-- 9 -->\r\n",
       "<g id=\"node10\" class=\"node\"><title>9</title>\r\n",
       "<path fill=\"#399de5\" fill-opacity=\"0.180392\" stroke=\"black\" d=\"M823,-261C823,-261 731,-261 731,-261 725,-261 719,-255 719,-249 719,-249 719,-205 719,-205 719,-199 725,-193 731,-193 731,-193 823,-193 823,-193 829,-193 835,-199 835,-205 835,-205 835,-249 835,-249 835,-255 829,-261 823,-261\"/>\r\n",
       "<text text-anchor=\"middle\" x=\"777\" y=\"-245.8\" font-family=\"Helvetica,sans-Serif\" font-size=\"14.00\">X[5] &lt;= 23.35</text>\r\n",
       "<text text-anchor=\"middle\" x=\"777\" y=\"-230.8\" font-family=\"Helvetica,sans-Serif\" font-size=\"14.00\">entropy = 0.993</text>\r\n",
       "<text text-anchor=\"middle\" x=\"777\" y=\"-215.8\" font-family=\"Helvetica,sans-Serif\" font-size=\"14.00\">samples = 100</text>\r\n",
       "<text text-anchor=\"middle\" x=\"777\" y=\"-200.8\" font-family=\"Helvetica,sans-Serif\" font-size=\"14.00\">value = [45, 55]</text>\r\n",
       "</g>\r\n",
       "<!-- 1&#45;&gt;9 -->\r\n",
       "<g id=\"edge9\" class=\"edge\"><title>1&#45;&gt;9</title>\r\n",
       "<path fill=\"none\" stroke=\"black\" d=\"M777,-296.884C777,-288.778 777,-279.982 777,-271.472\"/>\r\n",
       "<polygon fill=\"black\" stroke=\"black\" points=\"780.5,-271.299 777,-261.299 773.5,-271.299 780.5,-271.299\"/>\r\n",
       "</g>\r\n",
       "<!-- 3 -->\r\n",
       "<g id=\"node4\" class=\"node\"><title>3</title>\r\n",
       "<path fill=\"#399de5\" fill-opacity=\"0.905882\" stroke=\"black\" d=\"M234,-157C234,-157 150,-157 150,-157 144,-157 138,-151 138,-145 138,-145 138,-101 138,-101 138,-95 144,-89 150,-89 150,-89 234,-89 234,-89 240,-89 246,-95 246,-101 246,-101 246,-145 246,-145 246,-151 240,-157 234,-157\"/>\r\n",
       "<text text-anchor=\"middle\" x=\"192\" y=\"-141.8\" font-family=\"Helvetica,sans-Serif\" font-size=\"14.00\">X[2] &lt;= 23.5</text>\r\n",
       "<text text-anchor=\"middle\" x=\"192\" y=\"-126.8\" font-family=\"Helvetica,sans-Serif\" font-size=\"14.00\">entropy = 0.42</text>\r\n",
       "<text text-anchor=\"middle\" x=\"192\" y=\"-111.8\" font-family=\"Helvetica,sans-Serif\" font-size=\"14.00\">samples = 47</text>\r\n",
       "<text text-anchor=\"middle\" x=\"192\" y=\"-96.8\" font-family=\"Helvetica,sans-Serif\" font-size=\"14.00\">value = [4, 43]</text>\r\n",
       "</g>\r\n",
       "<!-- 2&#45;&gt;3 -->\r\n",
       "<g id=\"edge3\" class=\"edge\"><title>2&#45;&gt;3</title>\r\n",
       "<path fill=\"none\" stroke=\"black\" d=\"M325.873,-195.12C303.559,-183.266 277.995,-169.685 255.226,-157.589\"/>\r\n",
       "<polygon fill=\"black\" stroke=\"black\" points=\"256.794,-154.459 246.321,-152.858 253.51,-160.64 256.794,-154.459\"/>\r\n",
       "</g>\r\n",
       "<!-- 6 -->\r\n",
       "<g id=\"node7\" class=\"node\"><title>6</title>\r\n",
       "<path fill=\"#399de5\" fill-opacity=\"0.984314\" stroke=\"black\" d=\"M430,-157C430,-157 338,-157 338,-157 332,-157 326,-151 326,-145 326,-145 326,-101 326,-101 326,-95 332,-89 338,-89 338,-89 430,-89 430,-89 436,-89 442,-95 442,-101 442,-101 442,-145 442,-145 442,-151 436,-157 430,-157\"/>\r\n",
       "<text text-anchor=\"middle\" x=\"384\" y=\"-141.8\" font-family=\"Helvetica,sans-Serif\" font-size=\"14.00\">X[2] &lt;= 56.5</text>\r\n",
       "<text text-anchor=\"middle\" x=\"384\" y=\"-126.8\" font-family=\"Helvetica,sans-Serif\" font-size=\"14.00\">entropy = 0.111</text>\r\n",
       "<text text-anchor=\"middle\" x=\"384\" y=\"-111.8\" font-family=\"Helvetica,sans-Serif\" font-size=\"14.00\">samples = 68</text>\r\n",
       "<text text-anchor=\"middle\" x=\"384\" y=\"-96.8\" font-family=\"Helvetica,sans-Serif\" font-size=\"14.00\">value = [1, 67]</text>\r\n",
       "</g>\r\n",
       "<!-- 2&#45;&gt;6 -->\r\n",
       "<g id=\"edge6\" class=\"edge\"><title>2&#45;&gt;6</title>\r\n",
       "<path fill=\"none\" stroke=\"black\" d=\"M384,-192.884C384,-184.778 384,-175.982 384,-167.472\"/>\r\n",
       "<polygon fill=\"black\" stroke=\"black\" points=\"387.5,-167.299 384,-157.299 380.5,-167.299 387.5,-167.299\"/>\r\n",
       "</g>\r\n",
       "<!-- 4 -->\r\n",
       "<g id=\"node5\" class=\"node\"><title>4</title>\r\n",
       "<path fill=\"#399de5\" fill-opacity=\"0.972549\" stroke=\"black\" d=\"M104,-53C104,-53 12,-53 12,-53 6,-53 0,-47 0,-41 0,-41 0,-12 0,-12 0,-6 6,-0 12,-0 12,-0 104,-0 104,-0 110,-0 116,-6 116,-12 116,-12 116,-41 116,-41 116,-47 110,-53 104,-53\"/>\r\n",
       "<text text-anchor=\"middle\" x=\"58\" y=\"-37.8\" font-family=\"Helvetica,sans-Serif\" font-size=\"14.00\">entropy = 0.179</text>\r\n",
       "<text text-anchor=\"middle\" x=\"58\" y=\"-22.8\" font-family=\"Helvetica,sans-Serif\" font-size=\"14.00\">samples = 37</text>\r\n",
       "<text text-anchor=\"middle\" x=\"58\" y=\"-7.8\" font-family=\"Helvetica,sans-Serif\" font-size=\"14.00\">value = [1, 36]</text>\r\n",
       "</g>\r\n",
       "<!-- 3&#45;&gt;4 -->\r\n",
       "<g id=\"edge4\" class=\"edge\"><title>3&#45;&gt;4</title>\r\n",
       "<path fill=\"none\" stroke=\"black\" d=\"M145.133,-88.9485C131.383,-79.2516 116.386,-68.6752 102.77,-59.073\"/>\r\n",
       "<polygon fill=\"black\" stroke=\"black\" points=\"104.684,-56.1397 94.4944,-53.2367 100.649,-61.8603 104.684,-56.1397\"/>\r\n",
       "</g>\r\n",
       "<!-- 5 -->\r\n",
       "<g id=\"node6\" class=\"node\"><title>5</title>\r\n",
       "<path fill=\"#399de5\" fill-opacity=\"0.572549\" stroke=\"black\" d=\"M238,-53C238,-53 146,-53 146,-53 140,-53 134,-47 134,-41 134,-41 134,-12 134,-12 134,-6 140,-0 146,-0 146,-0 238,-0 238,-0 244,-0 250,-6 250,-12 250,-12 250,-41 250,-41 250,-47 244,-53 238,-53\"/>\r\n",
       "<text text-anchor=\"middle\" x=\"192\" y=\"-37.8\" font-family=\"Helvetica,sans-Serif\" font-size=\"14.00\">entropy = 0.881</text>\r\n",
       "<text text-anchor=\"middle\" x=\"192\" y=\"-22.8\" font-family=\"Helvetica,sans-Serif\" font-size=\"14.00\">samples = 10</text>\r\n",
       "<text text-anchor=\"middle\" x=\"192\" y=\"-7.8\" font-family=\"Helvetica,sans-Serif\" font-size=\"14.00\">value = [3, 7]</text>\r\n",
       "</g>\r\n",
       "<!-- 3&#45;&gt;5 -->\r\n",
       "<g id=\"edge5\" class=\"edge\"><title>3&#45;&gt;5</title>\r\n",
       "<path fill=\"none\" stroke=\"black\" d=\"M192,-88.9485C192,-80.7153 192,-71.848 192,-63.4814\"/>\r\n",
       "<polygon fill=\"black\" stroke=\"black\" points=\"195.5,-63.2367 192,-53.2367 188.5,-63.2367 195.5,-63.2367\"/>\r\n",
       "</g>\r\n",
       "<!-- 7 -->\r\n",
       "<g id=\"node8\" class=\"node\"><title>7</title>\r\n",
       "<path fill=\"#399de5\" stroke=\"black\" d=\"M361.5,-53C361.5,-53 280.5,-53 280.5,-53 274.5,-53 268.5,-47 268.5,-41 268.5,-41 268.5,-12 268.5,-12 268.5,-6 274.5,-0 280.5,-0 280.5,-0 361.5,-0 361.5,-0 367.5,-0 373.5,-6 373.5,-12 373.5,-12 373.5,-41 373.5,-41 373.5,-47 367.5,-53 361.5,-53\"/>\r\n",
       "<text text-anchor=\"middle\" x=\"321\" y=\"-37.8\" font-family=\"Helvetica,sans-Serif\" font-size=\"14.00\">entropy = 0.0</text>\r\n",
       "<text text-anchor=\"middle\" x=\"321\" y=\"-22.8\" font-family=\"Helvetica,sans-Serif\" font-size=\"14.00\">samples = 62</text>\r\n",
       "<text text-anchor=\"middle\" x=\"321\" y=\"-7.8\" font-family=\"Helvetica,sans-Serif\" font-size=\"14.00\">value = [0, 62]</text>\r\n",
       "</g>\r\n",
       "<!-- 6&#45;&gt;7 -->\r\n",
       "<g id=\"edge7\" class=\"edge\"><title>6&#45;&gt;7</title>\r\n",
       "<path fill=\"none\" stroke=\"black\" d=\"M361.966,-88.9485C356.111,-80.1664 349.775,-70.6629 343.877,-61.815\"/>\r\n",
       "<polygon fill=\"black\" stroke=\"black\" points=\"346.617,-59.6158 338.158,-53.2367 340.793,-63.4987 346.617,-59.6158\"/>\r\n",
       "</g>\r\n",
       "<!-- 8 -->\r\n",
       "<g id=\"node9\" class=\"node\"><title>8</title>\r\n",
       "<path fill=\"#399de5\" fill-opacity=\"0.800000\" stroke=\"black\" d=\"M488,-53C488,-53 404,-53 404,-53 398,-53 392,-47 392,-41 392,-41 392,-12 392,-12 392,-6 398,-0 404,-0 404,-0 488,-0 488,-0 494,-0 500,-6 500,-12 500,-12 500,-41 500,-41 500,-47 494,-53 488,-53\"/>\r\n",
       "<text text-anchor=\"middle\" x=\"446\" y=\"-37.8\" font-family=\"Helvetica,sans-Serif\" font-size=\"14.00\">entropy = 0.65</text>\r\n",
       "<text text-anchor=\"middle\" x=\"446\" y=\"-22.8\" font-family=\"Helvetica,sans-Serif\" font-size=\"14.00\">samples = 6</text>\r\n",
       "<text text-anchor=\"middle\" x=\"446\" y=\"-7.8\" font-family=\"Helvetica,sans-Serif\" font-size=\"14.00\">value = [1, 5]</text>\r\n",
       "</g>\r\n",
       "<!-- 6&#45;&gt;8 -->\r\n",
       "<g id=\"edge8\" class=\"edge\"><title>6&#45;&gt;8</title>\r\n",
       "<path fill=\"none\" stroke=\"black\" d=\"M405.685,-88.9485C411.446,-80.1664 417.681,-70.6629 423.486,-61.815\"/>\r\n",
       "<polygon fill=\"black\" stroke=\"black\" points=\"426.555,-63.5178 429.115,-53.2367 420.703,-59.6779 426.555,-63.5178\"/>\r\n",
       "</g>\r\n",
       "<!-- 10 -->\r\n",
       "<g id=\"node11\" class=\"node\"><title>10</title>\r\n",
       "<path fill=\"#399de5\" fill-opacity=\"0.423529\" stroke=\"black\" d=\"M756,-157C756,-157 664,-157 664,-157 658,-157 652,-151 652,-145 652,-145 652,-101 652,-101 652,-95 658,-89 664,-89 664,-89 756,-89 756,-89 762,-89 768,-95 768,-101 768,-101 768,-145 768,-145 768,-151 762,-157 756,-157\"/>\r\n",
       "<text text-anchor=\"middle\" x=\"710\" y=\"-141.8\" font-family=\"Helvetica,sans-Serif\" font-size=\"14.00\">X[5] &lt;= 7.762</text>\r\n",
       "<text text-anchor=\"middle\" x=\"710\" y=\"-126.8\" font-family=\"Helvetica,sans-Serif\" font-size=\"14.00\">entropy = 0.947</text>\r\n",
       "<text text-anchor=\"middle\" x=\"710\" y=\"-111.8\" font-family=\"Helvetica,sans-Serif\" font-size=\"14.00\">samples = 82</text>\r\n",
       "<text text-anchor=\"middle\" x=\"710\" y=\"-96.8\" font-family=\"Helvetica,sans-Serif\" font-size=\"14.00\">value = [30, 52]</text>\r\n",
       "</g>\r\n",
       "<!-- 9&#45;&gt;10 -->\r\n",
       "<g id=\"edge10\" class=\"edge\"><title>9&#45;&gt;10</title>\r\n",
       "<path fill=\"none\" stroke=\"black\" d=\"M755.247,-192.884C749.572,-184.243 743.381,-174.819 737.452,-165.793\"/>\r\n",
       "<polygon fill=\"black\" stroke=\"black\" points=\"740.289,-163.736 731.873,-157.299 734.438,-167.579 740.289,-163.736\"/>\r\n",
       "</g>\r\n",
       "<!-- 13 -->\r\n",
       "<g id=\"node14\" class=\"node\"><title>13</title>\r\n",
       "<path fill=\"#e58139\" fill-opacity=\"0.800000\" stroke=\"black\" d=\"M886,-157C886,-157 802,-157 802,-157 796,-157 790,-151 790,-145 790,-145 790,-101 790,-101 790,-95 796,-89 802,-89 802,-89 886,-89 886,-89 892,-89 898,-95 898,-101 898,-101 898,-145 898,-145 898,-151 892,-157 886,-157\"/>\r\n",
       "<text text-anchor=\"middle\" x=\"844\" y=\"-141.8\" font-family=\"Helvetica,sans-Serif\" font-size=\"14.00\">X[0] &lt;= 360.0</text>\r\n",
       "<text text-anchor=\"middle\" x=\"844\" y=\"-126.8\" font-family=\"Helvetica,sans-Serif\" font-size=\"14.00\">entropy = 0.65</text>\r\n",
       "<text text-anchor=\"middle\" x=\"844\" y=\"-111.8\" font-family=\"Helvetica,sans-Serif\" font-size=\"14.00\">samples = 18</text>\r\n",
       "<text text-anchor=\"middle\" x=\"844\" y=\"-96.8\" font-family=\"Helvetica,sans-Serif\" font-size=\"14.00\">value = [15, 3]</text>\r\n",
       "</g>\r\n",
       "<!-- 9&#45;&gt;13 -->\r\n",
       "<g id=\"edge13\" class=\"edge\"><title>9&#45;&gt;13</title>\r\n",
       "<path fill=\"none\" stroke=\"black\" d=\"M798.753,-192.884C804.428,-184.243 810.619,-174.819 816.548,-165.793\"/>\r\n",
       "<polygon fill=\"black\" stroke=\"black\" points=\"819.562,-167.579 822.127,-157.299 813.711,-163.736 819.562,-167.579\"/>\r\n",
       "</g>\r\n",
       "<!-- 11 -->\r\n",
       "<g id=\"node12\" class=\"node\"><title>11</title>\r\n",
       "<path fill=\"#399de5\" fill-opacity=\"0.764706\" stroke=\"black\" d=\"M622,-53C622,-53 530,-53 530,-53 524,-53 518,-47 518,-41 518,-41 518,-12 518,-12 518,-6 524,-0 530,-0 530,-0 622,-0 622,-0 628,-0 634,-6 634,-12 634,-12 634,-41 634,-41 634,-47 628,-53 622,-53\"/>\r\n",
       "<text text-anchor=\"middle\" x=\"576\" y=\"-37.8\" font-family=\"Helvetica,sans-Serif\" font-size=\"14.00\">entropy = 0.702</text>\r\n",
       "<text text-anchor=\"middle\" x=\"576\" y=\"-22.8\" font-family=\"Helvetica,sans-Serif\" font-size=\"14.00\">samples = 21</text>\r\n",
       "<text text-anchor=\"middle\" x=\"576\" y=\"-7.8\" font-family=\"Helvetica,sans-Serif\" font-size=\"14.00\">value = [4, 17]</text>\r\n",
       "</g>\r\n",
       "<!-- 10&#45;&gt;11 -->\r\n",
       "<g id=\"edge11\" class=\"edge\"><title>10&#45;&gt;11</title>\r\n",
       "<path fill=\"none\" stroke=\"black\" d=\"M663.133,-88.9485C649.383,-79.2516 634.386,-68.6752 620.77,-59.073\"/>\r\n",
       "<polygon fill=\"black\" stroke=\"black\" points=\"622.684,-56.1397 612.494,-53.2367 618.649,-61.8603 622.684,-56.1397\"/>\r\n",
       "</g>\r\n",
       "<!-- 12 -->\r\n",
       "<g id=\"node13\" class=\"node\"><title>12</title>\r\n",
       "<path fill=\"#399de5\" fill-opacity=\"0.258824\" stroke=\"black\" d=\"M756,-53C756,-53 664,-53 664,-53 658,-53 652,-47 652,-41 652,-41 652,-12 652,-12 652,-6 658,-0 664,-0 664,-0 756,-0 756,-0 762,-0 768,-6 768,-12 768,-12 768,-41 768,-41 768,-47 762,-53 756,-53\"/>\r\n",
       "<text text-anchor=\"middle\" x=\"710\" y=\"-37.8\" font-family=\"Helvetica,sans-Serif\" font-size=\"14.00\">entropy = 0.984</text>\r\n",
       "<text text-anchor=\"middle\" x=\"710\" y=\"-22.8\" font-family=\"Helvetica,sans-Serif\" font-size=\"14.00\">samples = 61</text>\r\n",
       "<text text-anchor=\"middle\" x=\"710\" y=\"-7.8\" font-family=\"Helvetica,sans-Serif\" font-size=\"14.00\">value = [26, 35]</text>\r\n",
       "</g>\r\n",
       "<!-- 10&#45;&gt;12 -->\r\n",
       "<g id=\"edge12\" class=\"edge\"><title>10&#45;&gt;12</title>\r\n",
       "<path fill=\"none\" stroke=\"black\" d=\"M710,-88.9485C710,-80.7153 710,-71.848 710,-63.4814\"/>\r\n",
       "<polygon fill=\"black\" stroke=\"black\" points=\"713.5,-63.2367 710,-53.2367 706.5,-63.2367 713.5,-63.2367\"/>\r\n",
       "</g>\r\n",
       "<!-- 14 -->\r\n",
       "<g id=\"node15\" class=\"node\"><title>14</title>\r\n",
       "<path fill=\"#e58139\" fill-opacity=\"0.250980\" stroke=\"black\" d=\"M890,-53C890,-53 798,-53 798,-53 792,-53 786,-47 786,-41 786,-41 786,-12 786,-12 786,-6 792,-0 798,-0 798,-0 890,-0 890,-0 896,-0 902,-6 902,-12 902,-12 902,-41 902,-41 902,-47 896,-53 890,-53\"/>\r\n",
       "<text text-anchor=\"middle\" x=\"844\" y=\"-37.8\" font-family=\"Helvetica,sans-Serif\" font-size=\"14.00\">entropy = 0.985</text>\r\n",
       "<text text-anchor=\"middle\" x=\"844\" y=\"-22.8\" font-family=\"Helvetica,sans-Serif\" font-size=\"14.00\">samples = 7</text>\r\n",
       "<text text-anchor=\"middle\" x=\"844\" y=\"-7.8\" font-family=\"Helvetica,sans-Serif\" font-size=\"14.00\">value = [4, 3]</text>\r\n",
       "</g>\r\n",
       "<!-- 13&#45;&gt;14 -->\r\n",
       "<g id=\"edge14\" class=\"edge\"><title>13&#45;&gt;14</title>\r\n",
       "<path fill=\"none\" stroke=\"black\" d=\"M844,-88.9485C844,-80.7153 844,-71.848 844,-63.4814\"/>\r\n",
       "<polygon fill=\"black\" stroke=\"black\" points=\"847.5,-63.2367 844,-53.2367 840.5,-63.2367 847.5,-63.2367\"/>\r\n",
       "</g>\r\n",
       "<!-- 15 -->\r\n",
       "<g id=\"node16\" class=\"node\"><title>15</title>\r\n",
       "<path fill=\"#e58139\" stroke=\"black\" d=\"M1013.5,-53C1013.5,-53 932.5,-53 932.5,-53 926.5,-53 920.5,-47 920.5,-41 920.5,-41 920.5,-12 920.5,-12 920.5,-6 926.5,-0 932.5,-0 932.5,-0 1013.5,-0 1013.5,-0 1019.5,-0 1025.5,-6 1025.5,-12 1025.5,-12 1025.5,-41 1025.5,-41 1025.5,-47 1019.5,-53 1013.5,-53\"/>\r\n",
       "<text text-anchor=\"middle\" x=\"973\" y=\"-37.8\" font-family=\"Helvetica,sans-Serif\" font-size=\"14.00\">entropy = 0.0</text>\r\n",
       "<text text-anchor=\"middle\" x=\"973\" y=\"-22.8\" font-family=\"Helvetica,sans-Serif\" font-size=\"14.00\">samples = 11</text>\r\n",
       "<text text-anchor=\"middle\" x=\"973\" y=\"-7.8\" font-family=\"Helvetica,sans-Serif\" font-size=\"14.00\">value = [11, 0]</text>\r\n",
       "</g>\r\n",
       "<!-- 13&#45;&gt;15 -->\r\n",
       "<g id=\"edge15\" class=\"edge\"><title>13&#45;&gt;15</title>\r\n",
       "<path fill=\"none\" stroke=\"black\" d=\"M889.118,-88.9485C902.23,-79.3431 916.52,-68.8747 929.529,-59.345\"/>\r\n",
       "<polygon fill=\"black\" stroke=\"black\" points=\"931.869,-61.9698 937.867,-53.2367 927.732,-56.3228 931.869,-61.9698\"/>\r\n",
       "</g>\r\n",
       "<!-- 17 -->\r\n",
       "<g id=\"node18\" class=\"node\"><title>17</title>\r\n",
       "<path fill=\"#e58139\" fill-opacity=\"0.960784\" stroke=\"black\" d=\"M1338,-261C1338,-261 1246,-261 1246,-261 1240,-261 1234,-255 1234,-249 1234,-249 1234,-205 1234,-205 1234,-199 1240,-193 1246,-193 1246,-193 1338,-193 1338,-193 1344,-193 1350,-199 1350,-205 1350,-205 1350,-249 1350,-249 1350,-255 1344,-261 1338,-261\"/>\r\n",
       "<text text-anchor=\"middle\" x=\"1292\" y=\"-245.8\" font-family=\"Helvetica,sans-Serif\" font-size=\"14.00\">X[5] &lt;= 7.762</text>\r\n",
       "<text text-anchor=\"middle\" x=\"1292\" y=\"-230.8\" font-family=\"Helvetica,sans-Serif\" font-size=\"14.00\">entropy = 0.234</text>\r\n",
       "<text text-anchor=\"middle\" x=\"1292\" y=\"-215.8\" font-family=\"Helvetica,sans-Serif\" font-size=\"14.00\">samples = 131</text>\r\n",
       "<text text-anchor=\"middle\" x=\"1292\" y=\"-200.8\" font-family=\"Helvetica,sans-Serif\" font-size=\"14.00\">value = [126, 5]</text>\r\n",
       "</g>\r\n",
       "<!-- 16&#45;&gt;17 -->\r\n",
       "<g id=\"edge17\" class=\"edge\"><title>16&#45;&gt;17</title>\r\n",
       "<path fill=\"none\" stroke=\"black\" d=\"M1292,-296.884C1292,-288.778 1292,-279.982 1292,-271.472\"/>\r\n",
       "<polygon fill=\"black\" stroke=\"black\" points=\"1295.5,-271.299 1292,-261.299 1288.5,-271.299 1295.5,-271.299\"/>\r\n",
       "</g>\r\n",
       "<!-- 24 -->\r\n",
       "<g id=\"node25\" class=\"node\"><title>24</title>\r\n",
       "<path fill=\"#e58139\" fill-opacity=\"0.674510\" stroke=\"black\" d=\"M1731,-261C1731,-261 1633,-261 1633,-261 1627,-261 1621,-255 1621,-249 1621,-249 1621,-205 1621,-205 1621,-199 1627,-193 1633,-193 1633,-193 1731,-193 1731,-193 1737,-193 1743,-199 1743,-205 1743,-205 1743,-249 1743,-249 1743,-255 1737,-261 1731,-261\"/>\r\n",
       "<text text-anchor=\"middle\" x=\"1682\" y=\"-245.8\" font-family=\"Helvetica,sans-Serif\" font-size=\"14.00\">X[2] &lt;= 13.0</text>\r\n",
       "<text text-anchor=\"middle\" x=\"1682\" y=\"-230.8\" font-family=\"Helvetica,sans-Serif\" font-size=\"14.00\">entropy = 0.804</text>\r\n",
       "<text text-anchor=\"middle\" x=\"1682\" y=\"-215.8\" font-family=\"Helvetica,sans-Serif\" font-size=\"14.00\">samples = 277</text>\r\n",
       "<text text-anchor=\"middle\" x=\"1682\" y=\"-200.8\" font-family=\"Helvetica,sans-Serif\" font-size=\"14.00\">value = [209, 68]</text>\r\n",
       "</g>\r\n",
       "<!-- 16&#45;&gt;24 -->\r\n",
       "<g id=\"edge24\" class=\"edge\"><title>16&#45;&gt;24</title>\r\n",
       "<path fill=\"none\" stroke=\"black\" d=\"M1353.37,-313.95C1423.23,-295.679 1537.18,-265.875 1610.87,-246.603\"/>\r\n",
       "<polygon fill=\"black\" stroke=\"black\" points=\"1612.2,-249.873 1620.99,-243.956 1610.43,-243.1 1612.2,-249.873\"/>\r\n",
       "</g>\r\n",
       "<!-- 18 -->\r\n",
       "<g id=\"node19\" class=\"node\"><title>18</title>\r\n",
       "<path fill=\"#e58139\" fill-opacity=\"0.988235\" stroke=\"black\" d=\"M1271,-157C1271,-157 1179,-157 1179,-157 1173,-157 1167,-151 1167,-145 1167,-145 1167,-101 1167,-101 1167,-95 1173,-89 1179,-89 1179,-89 1271,-89 1271,-89 1277,-89 1283,-95 1283,-101 1283,-101 1283,-145 1283,-145 1283,-151 1277,-157 1271,-157\"/>\r\n",
       "<text text-anchor=\"middle\" x=\"1225\" y=\"-141.8\" font-family=\"Helvetica,sans-Serif\" font-size=\"14.00\">X[0] &lt;= 802.0</text>\r\n",
       "<text text-anchor=\"middle\" x=\"1225\" y=\"-126.8\" font-family=\"Helvetica,sans-Serif\" font-size=\"14.00\">entropy = 0.093</text>\r\n",
       "<text text-anchor=\"middle\" x=\"1225\" y=\"-111.8\" font-family=\"Helvetica,sans-Serif\" font-size=\"14.00\">samples = 84</text>\r\n",
       "<text text-anchor=\"middle\" x=\"1225\" y=\"-96.8\" font-family=\"Helvetica,sans-Serif\" font-size=\"14.00\">value = [83, 1]</text>\r\n",
       "</g>\r\n",
       "<!-- 17&#45;&gt;18 -->\r\n",
       "<g id=\"edge18\" class=\"edge\"><title>17&#45;&gt;18</title>\r\n",
       "<path fill=\"none\" stroke=\"black\" d=\"M1270.25,-192.884C1264.57,-184.243 1258.38,-174.819 1252.45,-165.793\"/>\r\n",
       "<polygon fill=\"black\" stroke=\"black\" points=\"1255.29,-163.736 1246.87,-157.299 1249.44,-167.579 1255.29,-163.736\"/>\r\n",
       "</g>\r\n",
       "<!-- 21 -->\r\n",
       "<g id=\"node22\" class=\"node\"><title>21</title>\r\n",
       "<path fill=\"#e58139\" fill-opacity=\"0.905882\" stroke=\"black\" d=\"M1401,-157C1401,-157 1317,-157 1317,-157 1311,-157 1305,-151 1305,-145 1305,-145 1305,-101 1305,-101 1305,-95 1311,-89 1317,-89 1317,-89 1401,-89 1401,-89 1407,-89 1413,-95 1413,-101 1413,-101 1413,-145 1413,-145 1413,-151 1407,-157 1401,-157\"/>\r\n",
       "<text text-anchor=\"middle\" x=\"1359\" y=\"-141.8\" font-family=\"Helvetica,sans-Serif\" font-size=\"14.00\">X[0] &lt;= 588.5</text>\r\n",
       "<text text-anchor=\"middle\" x=\"1359\" y=\"-126.8\" font-family=\"Helvetica,sans-Serif\" font-size=\"14.00\">entropy = 0.42</text>\r\n",
       "<text text-anchor=\"middle\" x=\"1359\" y=\"-111.8\" font-family=\"Helvetica,sans-Serif\" font-size=\"14.00\">samples = 47</text>\r\n",
       "<text text-anchor=\"middle\" x=\"1359\" y=\"-96.8\" font-family=\"Helvetica,sans-Serif\" font-size=\"14.00\">value = [43, 4]</text>\r\n",
       "</g>\r\n",
       "<!-- 17&#45;&gt;21 -->\r\n",
       "<g id=\"edge21\" class=\"edge\"><title>17&#45;&gt;21</title>\r\n",
       "<path fill=\"none\" stroke=\"black\" d=\"M1313.75,-192.884C1319.43,-184.243 1325.62,-174.819 1331.55,-165.793\"/>\r\n",
       "<polygon fill=\"black\" stroke=\"black\" points=\"1334.56,-167.579 1337.13,-157.299 1328.71,-163.736 1334.56,-167.579\"/>\r\n",
       "</g>\r\n",
       "<!-- 19 -->\r\n",
       "<g id=\"node20\" class=\"node\"><title>19</title>\r\n",
       "<path fill=\"#e58139\" stroke=\"black\" d=\"M1136.5,-53C1136.5,-53 1055.5,-53 1055.5,-53 1049.5,-53 1043.5,-47 1043.5,-41 1043.5,-41 1043.5,-12 1043.5,-12 1043.5,-6 1049.5,-0 1055.5,-0 1055.5,-0 1136.5,-0 1136.5,-0 1142.5,-0 1148.5,-6 1148.5,-12 1148.5,-12 1148.5,-41 1148.5,-41 1148.5,-47 1142.5,-53 1136.5,-53\"/>\r\n",
       "<text text-anchor=\"middle\" x=\"1096\" y=\"-37.8\" font-family=\"Helvetica,sans-Serif\" font-size=\"14.00\">entropy = 0.0</text>\r\n",
       "<text text-anchor=\"middle\" x=\"1096\" y=\"-22.8\" font-family=\"Helvetica,sans-Serif\" font-size=\"14.00\">samples = 76</text>\r\n",
       "<text text-anchor=\"middle\" x=\"1096\" y=\"-7.8\" font-family=\"Helvetica,sans-Serif\" font-size=\"14.00\">value = [76, 0]</text>\r\n",
       "</g>\r\n",
       "<!-- 18&#45;&gt;19 -->\r\n",
       "<g id=\"edge19\" class=\"edge\"><title>18&#45;&gt;19</title>\r\n",
       "<path fill=\"none\" stroke=\"black\" d=\"M1179.88,-88.9485C1166.77,-79.3431 1152.48,-68.8747 1139.47,-59.345\"/>\r\n",
       "<polygon fill=\"black\" stroke=\"black\" points=\"1141.27,-56.3228 1131.13,-53.2367 1137.13,-61.9698 1141.27,-56.3228\"/>\r\n",
       "</g>\r\n",
       "<!-- 20 -->\r\n",
       "<g id=\"node21\" class=\"node\"><title>20</title>\r\n",
       "<path fill=\"#e58139\" fill-opacity=\"0.858824\" stroke=\"black\" d=\"M1271,-53C1271,-53 1179,-53 1179,-53 1173,-53 1167,-47 1167,-41 1167,-41 1167,-12 1167,-12 1167,-6 1173,-0 1179,-0 1179,-0 1271,-0 1271,-0 1277,-0 1283,-6 1283,-12 1283,-12 1283,-41 1283,-41 1283,-47 1277,-53 1271,-53\"/>\r\n",
       "<text text-anchor=\"middle\" x=\"1225\" y=\"-37.8\" font-family=\"Helvetica,sans-Serif\" font-size=\"14.00\">entropy = 0.544</text>\r\n",
       "<text text-anchor=\"middle\" x=\"1225\" y=\"-22.8\" font-family=\"Helvetica,sans-Serif\" font-size=\"14.00\">samples = 8</text>\r\n",
       "<text text-anchor=\"middle\" x=\"1225\" y=\"-7.8\" font-family=\"Helvetica,sans-Serif\" font-size=\"14.00\">value = [7, 1]</text>\r\n",
       "</g>\r\n",
       "<!-- 18&#45;&gt;20 -->\r\n",
       "<g id=\"edge20\" class=\"edge\"><title>18&#45;&gt;20</title>\r\n",
       "<path fill=\"none\" stroke=\"black\" d=\"M1225,-88.9485C1225,-80.7153 1225,-71.848 1225,-63.4814\"/>\r\n",
       "<polygon fill=\"black\" stroke=\"black\" points=\"1228.5,-63.2367 1225,-53.2367 1221.5,-63.2367 1228.5,-63.2367\"/>\r\n",
       "</g>\r\n",
       "<!-- 22 -->\r\n",
       "<g id=\"node23\" class=\"node\"><title>22</title>\r\n",
       "<path fill=\"#e58139\" fill-opacity=\"0.847059\" stroke=\"black\" d=\"M1405,-53C1405,-53 1313,-53 1313,-53 1307,-53 1301,-47 1301,-41 1301,-41 1301,-12 1301,-12 1301,-6 1307,-0 1313,-0 1313,-0 1405,-0 1405,-0 1411,-0 1417,-6 1417,-12 1417,-12 1417,-41 1417,-41 1417,-47 1411,-53 1405,-53\"/>\r\n",
       "<text text-anchor=\"middle\" x=\"1359\" y=\"-37.8\" font-family=\"Helvetica,sans-Serif\" font-size=\"14.00\">entropy = 0.567</text>\r\n",
       "<text text-anchor=\"middle\" x=\"1359\" y=\"-22.8\" font-family=\"Helvetica,sans-Serif\" font-size=\"14.00\">samples = 30</text>\r\n",
       "<text text-anchor=\"middle\" x=\"1359\" y=\"-7.8\" font-family=\"Helvetica,sans-Serif\" font-size=\"14.00\">value = [26, 4]</text>\r\n",
       "</g>\r\n",
       "<!-- 21&#45;&gt;22 -->\r\n",
       "<g id=\"edge22\" class=\"edge\"><title>21&#45;&gt;22</title>\r\n",
       "<path fill=\"none\" stroke=\"black\" d=\"M1359,-88.9485C1359,-80.7153 1359,-71.848 1359,-63.4814\"/>\r\n",
       "<polygon fill=\"black\" stroke=\"black\" points=\"1362.5,-63.2367 1359,-53.2367 1355.5,-63.2367 1362.5,-63.2367\"/>\r\n",
       "</g>\r\n",
       "<!-- 23 -->\r\n",
       "<g id=\"node24\" class=\"node\"><title>23</title>\r\n",
       "<path fill=\"#e58139\" stroke=\"black\" d=\"M1528.5,-53C1528.5,-53 1447.5,-53 1447.5,-53 1441.5,-53 1435.5,-47 1435.5,-41 1435.5,-41 1435.5,-12 1435.5,-12 1435.5,-6 1441.5,-0 1447.5,-0 1447.5,-0 1528.5,-0 1528.5,-0 1534.5,-0 1540.5,-6 1540.5,-12 1540.5,-12 1540.5,-41 1540.5,-41 1540.5,-47 1534.5,-53 1528.5,-53\"/>\r\n",
       "<text text-anchor=\"middle\" x=\"1488\" y=\"-37.8\" font-family=\"Helvetica,sans-Serif\" font-size=\"14.00\">entropy = 0.0</text>\r\n",
       "<text text-anchor=\"middle\" x=\"1488\" y=\"-22.8\" font-family=\"Helvetica,sans-Serif\" font-size=\"14.00\">samples = 17</text>\r\n",
       "<text text-anchor=\"middle\" x=\"1488\" y=\"-7.8\" font-family=\"Helvetica,sans-Serif\" font-size=\"14.00\">value = [17, 0]</text>\r\n",
       "</g>\r\n",
       "<!-- 21&#45;&gt;23 -->\r\n",
       "<g id=\"edge23\" class=\"edge\"><title>21&#45;&gt;23</title>\r\n",
       "<path fill=\"none\" stroke=\"black\" d=\"M1404.12,-88.9485C1417.23,-79.3431 1431.52,-68.8747 1444.53,-59.345\"/>\r\n",
       "<polygon fill=\"black\" stroke=\"black\" points=\"1446.87,-61.9698 1452.87,-53.2367 1442.73,-56.3228 1446.87,-61.9698\"/>\r\n",
       "</g>\r\n",
       "<!-- 25 -->\r\n",
       "<g id=\"node26\" class=\"node\"><title>25</title>\r\n",
       "<path fill=\"#e58139\" fill-opacity=\"0.333333\" stroke=\"black\" d=\"M1728,-157C1728,-157 1636,-157 1636,-157 1630,-157 1624,-151 1624,-145 1624,-145 1624,-101 1624,-101 1624,-95 1630,-89 1636,-89 1636,-89 1728,-89 1728,-89 1734,-89 1740,-95 1740,-101 1740,-101 1740,-145 1740,-145 1740,-151 1734,-157 1728,-157\"/>\r\n",
       "<text text-anchor=\"middle\" x=\"1682\" y=\"-141.8\" font-family=\"Helvetica,sans-Serif\" font-size=\"14.00\">X[2] &lt;= 0.21</text>\r\n",
       "<text text-anchor=\"middle\" x=\"1682\" y=\"-126.8\" font-family=\"Helvetica,sans-Serif\" font-size=\"14.00\">entropy = 0.971</text>\r\n",
       "<text text-anchor=\"middle\" x=\"1682\" y=\"-111.8\" font-family=\"Helvetica,sans-Serif\" font-size=\"14.00\">samples = 75</text>\r\n",
       "<text text-anchor=\"middle\" x=\"1682\" y=\"-96.8\" font-family=\"Helvetica,sans-Serif\" font-size=\"14.00\">value = [45, 30]</text>\r\n",
       "</g>\r\n",
       "<!-- 24&#45;&gt;25 -->\r\n",
       "<g id=\"edge25\" class=\"edge\"><title>24&#45;&gt;25</title>\r\n",
       "<path fill=\"none\" stroke=\"black\" d=\"M1682,-192.884C1682,-184.778 1682,-175.982 1682,-167.472\"/>\r\n",
       "<polygon fill=\"black\" stroke=\"black\" points=\"1685.5,-167.299 1682,-157.299 1678.5,-167.299 1685.5,-167.299\"/>\r\n",
       "</g>\r\n",
       "<!-- 28 -->\r\n",
       "<g id=\"node29\" class=\"node\"><title>28</title>\r\n",
       "<path fill=\"#e58139\" fill-opacity=\"0.768627\" stroke=\"black\" d=\"M1934,-157C1934,-157 1836,-157 1836,-157 1830,-157 1824,-151 1824,-145 1824,-145 1824,-101 1824,-101 1824,-95 1830,-89 1836,-89 1836,-89 1934,-89 1934,-89 1940,-89 1946,-95 1946,-101 1946,-101 1946,-145 1946,-145 1946,-151 1940,-157 1934,-157\"/>\r\n",
       "<text text-anchor=\"middle\" x=\"1885\" y=\"-141.8\" font-family=\"Helvetica,sans-Serif\" font-size=\"14.00\">X[1] &lt;= 1.5</text>\r\n",
       "<text text-anchor=\"middle\" x=\"1885\" y=\"-126.8\" font-family=\"Helvetica,sans-Serif\" font-size=\"14.00\">entropy = 0.698</text>\r\n",
       "<text text-anchor=\"middle\" x=\"1885\" y=\"-111.8\" font-family=\"Helvetica,sans-Serif\" font-size=\"14.00\">samples = 202</text>\r\n",
       "<text text-anchor=\"middle\" x=\"1885\" y=\"-96.8\" font-family=\"Helvetica,sans-Serif\" font-size=\"14.00\">value = [164, 38]</text>\r\n",
       "</g>\r\n",
       "<!-- 24&#45;&gt;28 -->\r\n",
       "<g id=\"edge28\" class=\"edge\"><title>24&#45;&gt;28</title>\r\n",
       "<path fill=\"none\" stroke=\"black\" d=\"M1743.18,-195.258C1765.75,-183.918 1791.5,-170.981 1814.8,-159.271\"/>\r\n",
       "<polygon fill=\"black\" stroke=\"black\" points=\"1816.58,-162.296 1823.94,-154.679 1813.44,-156.041 1816.58,-162.296\"/>\r\n",
       "</g>\r\n",
       "<!-- 26 -->\r\n",
       "<g id=\"node27\" class=\"node\"><title>26</title>\r\n",
       "<path fill=\"#e58139\" fill-opacity=\"0.686275\" stroke=\"black\" d=\"M1663,-53C1663,-53 1571,-53 1571,-53 1565,-53 1559,-47 1559,-41 1559,-41 1559,-12 1559,-12 1559,-6 1565,-0 1571,-0 1571,-0 1663,-0 1663,-0 1669,-0 1675,-6 1675,-12 1675,-12 1675,-41 1675,-41 1675,-47 1669,-53 1663,-53\"/>\r\n",
       "<text text-anchor=\"middle\" x=\"1617\" y=\"-37.8\" font-family=\"Helvetica,sans-Serif\" font-size=\"14.00\">entropy = 0.794</text>\r\n",
       "<text text-anchor=\"middle\" x=\"1617\" y=\"-22.8\" font-family=\"Helvetica,sans-Serif\" font-size=\"14.00\">samples = 46</text>\r\n",
       "<text text-anchor=\"middle\" x=\"1617\" y=\"-7.8\" font-family=\"Helvetica,sans-Serif\" font-size=\"14.00\">value = [35, 11]</text>\r\n",
       "</g>\r\n",
       "<!-- 25&#45;&gt;26 -->\r\n",
       "<g id=\"edge26\" class=\"edge\"><title>25&#45;&gt;26</title>\r\n",
       "<path fill=\"none\" stroke=\"black\" d=\"M1659.27,-88.9485C1653.16,-80.0749 1646.55,-70.4648 1640.41,-61.5388\"/>\r\n",
       "<polygon fill=\"black\" stroke=\"black\" points=\"1643.25,-59.4924 1634.7,-53.2367 1637.49,-63.4594 1643.25,-59.4924\"/>\r\n",
       "</g>\r\n",
       "<!-- 27 -->\r\n",
       "<g id=\"node28\" class=\"node\"><title>27</title>\r\n",
       "<path fill=\"#399de5\" fill-opacity=\"0.474510\" stroke=\"black\" d=\"M1797,-53C1797,-53 1705,-53 1705,-53 1699,-53 1693,-47 1693,-41 1693,-41 1693,-12 1693,-12 1693,-6 1699,-0 1705,-0 1705,-0 1797,-0 1797,-0 1803,-0 1809,-6 1809,-12 1809,-12 1809,-41 1809,-41 1809,-47 1803,-53 1797,-53\"/>\r\n",
       "<text text-anchor=\"middle\" x=\"1751\" y=\"-37.8\" font-family=\"Helvetica,sans-Serif\" font-size=\"14.00\">entropy = 0.929</text>\r\n",
       "<text text-anchor=\"middle\" x=\"1751\" y=\"-22.8\" font-family=\"Helvetica,sans-Serif\" font-size=\"14.00\">samples = 29</text>\r\n",
       "<text text-anchor=\"middle\" x=\"1751\" y=\"-7.8\" font-family=\"Helvetica,sans-Serif\" font-size=\"14.00\">value = [10, 19]</text>\r\n",
       "</g>\r\n",
       "<!-- 25&#45;&gt;27 -->\r\n",
       "<g id=\"edge27\" class=\"edge\"><title>25&#45;&gt;27</title>\r\n",
       "<path fill=\"none\" stroke=\"black\" d=\"M1706.13,-88.9485C1712.61,-80.0749 1719.63,-70.4648 1726.15,-61.5388\"/>\r\n",
       "<polygon fill=\"black\" stroke=\"black\" points=\"1729.14,-63.3769 1732.21,-53.2367 1723.48,-59.249 1729.14,-63.3769\"/>\r\n",
       "</g>\r\n",
       "<!-- 29 -->\r\n",
       "<g id=\"node30\" class=\"node\"><title>29</title>\r\n",
       "<path fill=\"#e58139\" fill-opacity=\"0.474510\" stroke=\"black\" d=\"M1931,-53C1931,-53 1839,-53 1839,-53 1833,-53 1827,-47 1827,-41 1827,-41 1827,-12 1827,-12 1827,-6 1833,-0 1839,-0 1839,-0 1931,-0 1931,-0 1937,-0 1943,-6 1943,-12 1943,-12 1943,-41 1943,-41 1943,-47 1937,-53 1931,-53\"/>\r\n",
       "<text text-anchor=\"middle\" x=\"1885\" y=\"-37.8\" font-family=\"Helvetica,sans-Serif\" font-size=\"14.00\">entropy = 0.928</text>\r\n",
       "<text text-anchor=\"middle\" x=\"1885\" y=\"-22.8\" font-family=\"Helvetica,sans-Serif\" font-size=\"14.00\">samples = 64</text>\r\n",
       "<text text-anchor=\"middle\" x=\"1885\" y=\"-7.8\" font-family=\"Helvetica,sans-Serif\" font-size=\"14.00\">value = [42, 22]</text>\r\n",
       "</g>\r\n",
       "<!-- 28&#45;&gt;29 -->\r\n",
       "<g id=\"edge29\" class=\"edge\"><title>28&#45;&gt;29</title>\r\n",
       "<path fill=\"none\" stroke=\"black\" d=\"M1885,-88.9485C1885,-80.7153 1885,-71.848 1885,-63.4814\"/>\r\n",
       "<polygon fill=\"black\" stroke=\"black\" points=\"1888.5,-63.2367 1885,-53.2367 1881.5,-63.2367 1888.5,-63.2367\"/>\r\n",
       "</g>\r\n",
       "<!-- 30 -->\r\n",
       "<g id=\"node31\" class=\"node\"><title>30</title>\r\n",
       "<path fill=\"#e58139\" fill-opacity=\"0.870588\" stroke=\"black\" d=\"M2071,-53C2071,-53 1973,-53 1973,-53 1967,-53 1961,-47 1961,-41 1961,-41 1961,-12 1961,-12 1961,-6 1967,-0 1973,-0 1973,-0 2071,-0 2071,-0 2077,-0 2083,-6 2083,-12 2083,-12 2083,-41 2083,-41 2083,-47 2077,-53 2071,-53\"/>\r\n",
       "<text text-anchor=\"middle\" x=\"2022\" y=\"-37.8\" font-family=\"Helvetica,sans-Serif\" font-size=\"14.00\">entropy = 0.518</text>\r\n",
       "<text text-anchor=\"middle\" x=\"2022\" y=\"-22.8\" font-family=\"Helvetica,sans-Serif\" font-size=\"14.00\">samples = 138</text>\r\n",
       "<text text-anchor=\"middle\" x=\"2022\" y=\"-7.8\" font-family=\"Helvetica,sans-Serif\" font-size=\"14.00\">value = [122, 16]</text>\r\n",
       "</g>\r\n",
       "<!-- 28&#45;&gt;30 -->\r\n",
       "<g id=\"edge30\" class=\"edge\"><title>28&#45;&gt;30</title>\r\n",
       "<path fill=\"none\" stroke=\"black\" d=\"M1932.92,-88.9485C1946.97,-79.2516 1962.31,-68.6752 1976.23,-59.073\"/>\r\n",
       "<polygon fill=\"black\" stroke=\"black\" points=\"1978.44,-61.7959 1984.69,-53.2367 1974.47,-56.0337 1978.44,-61.7959\"/>\r\n",
       "</g>\r\n",
       "</g>\r\n",
       "</svg>\r\n"
      ],
      "text/plain": [
       "<graphviz.files.Source at 0x1e86cfe5438>"
      ]
     },
<<<<<<< HEAD
     "execution_count": 8,
=======
     "execution_count": 117,
>>>>>>> 2647867a205789b1da4117883f62add01f51dcf5
     "metadata": {},
     "output_type": "execute_result"
    }
   ],
   "source": [
    "data_exp = tree.export_graphviz(clf, out_file=None,filled=True,rounded=True) \n",
    "graph = graphviz.Source(data_exp)\n",
    "graph\n",
    "\n",
    "#graph.render(\"Titanic\")"
   ]
  },
  {
   "cell_type": "code",
<<<<<<< HEAD
   "execution_count": 9,
=======
   "execution_count": 96,
>>>>>>> 2647867a205789b1da4117883f62add01f51dcf5
   "metadata": {},
   "outputs": [
    {
     "data": {
      "text/plain": [
<<<<<<< HEAD
       "array([1, 0, 0, 1, 1, 0, 1, 0, 0, 1, 1, 1, 0, 0, 1, 0, 1, 0, 1, 0, 1, 0,\n",
       "       1, 0, 0, 0, 0, 1, 1, 0, 0, 0, 1, 1, 0, 0, 0, 0, 0, 0, 0, 0, 1, 1,\n",
       "       1, 0, 0, 0, 1, 0, 1, 1, 0, 0, 0, 0, 0, 0, 1, 1, 0, 0, 0, 1, 0, 0,\n",
       "       0, 0, 0, 0, 0, 0, 0, 0, 0, 0, 0, 0, 0, 1, 0, 0, 0, 0, 0, 0, 1, 0,\n",
       "       0, 0, 1, 0, 0, 0, 1, 0, 0, 0, 0, 0, 1, 1, 0, 0, 1, 0, 0, 1, 0, 0,\n",
       "       0, 0, 1, 1, 1, 0, 1, 0, 0, 1, 0, 1, 0, 0, 1, 0, 0, 0, 1, 1, 0, 0,\n",
       "       0, 1, 0, 1, 0, 1, 0, 0, 1, 0, 0, 0, 0, 0, 0, 1, 0, 0, 1, 1, 1, 0,\n",
       "       0, 1, 1, 0, 1, 1, 0, 0, 0, 0, 0, 1, 0, 1, 0, 1, 0, 1, 0, 0, 1, 1,\n",
       "       1, 0, 0, 0, 0, 1, 1, 0, 0, 0, 0, 0, 0, 1, 0, 1, 0, 0, 0, 0, 1, 0,\n",
       "       0, 1, 0, 0, 1, 1, 0, 0, 1, 0, 0, 1, 0, 1, 0, 0, 1, 1, 0, 1, 0, 0,\n",
       "       0, 1, 1, 1, 0, 0, 0, 1, 0, 1, 0, 0, 0, 0, 0, 0, 1, 0, 0, 0, 1, 0,\n",
       "       1, 1, 0, 1, 0, 0, 0, 0, 0, 1, 0, 1, 0, 0, 0, 0, 0, 1, 0, 0, 0, 0,\n",
       "       0, 0, 1, 1], dtype=int64)"
      ]
     },
     "execution_count": 9,
=======
       "0.76865671641791045"
      ]
     },
     "execution_count": 96,
>>>>>>> 2647867a205789b1da4117883f62add01f51dcf5
     "metadata": {},
     "output_type": "execute_result"
    }
   ],
   "source": [
<<<<<<< HEAD
    "#Predição utilizando a base de teste\n",
    "predict_dtree = clf.predict(x_test)\n",
    "predict_dtree\n"
=======
    "#accuracy\n",
    "y_predict = clf.predict(x_test)\n",
    "#predict \n",
    "acc = accuracy_score(y_test, y_predict)\n",
    "acc"
>>>>>>> 2647867a205789b1da4117883f62add01f51dcf5
   ]
  },
  {
   "cell_type": "code",
<<<<<<< HEAD
   "execution_count": 10,
=======
   "execution_count": 74,
>>>>>>> 2647867a205789b1da4117883f62add01f51dcf5
   "metadata": {},
   "outputs": [
    {
     "data": {
<<<<<<< HEAD
      "text/plain": [
       "78.35820895522389"
      ]
     },
     "execution_count": 10,
=======
      "text/html": [
       "<div>\n",
       "<style>\n",
       "    .dataframe thead tr:only-child th {\n",
       "        text-align: right;\n",
       "    }\n",
       "\n",
       "    .dataframe thead th {\n",
       "        text-align: left;\n",
       "    }\n",
       "\n",
       "    .dataframe tbody tr th {\n",
       "        vertical-align: top;\n",
       "    }\n",
       "</style>\n",
       "<table border=\"1\" class=\"dataframe\">\n",
       "  <thead>\n",
       "    <tr style=\"text-align: right;\">\n",
       "      <th></th>\n",
       "      <th>Survived</th>\n",
       "    </tr>\n",
       "  </thead>\n",
       "  <tbody>\n",
       "    <tr>\n",
       "      <th>816</th>\n",
       "      <td>0</td>\n",
       "    </tr>\n",
       "    <tr>\n",
       "      <th>789</th>\n",
       "      <td>0</td>\n",
       "    </tr>\n",
       "    <tr>\n",
       "      <th>869</th>\n",
       "      <td>1</td>\n",
       "    </tr>\n",
       "    <tr>\n",
       "      <th>235</th>\n",
       "      <td>0</td>\n",
       "    </tr>\n",
       "    <tr>\n",
       "      <th>473</th>\n",
       "      <td>1</td>\n",
       "    </tr>\n",
       "    <tr>\n",
       "      <th>42</th>\n",
       "      <td>0</td>\n",
       "    </tr>\n",
       "    <tr>\n",
       "      <th>759</th>\n",
       "      <td>1</td>\n",
       "    </tr>\n",
       "    <tr>\n",
       "      <th>664</th>\n",
       "      <td>1</td>\n",
       "    </tr>\n",
       "    <tr>\n",
       "      <th>94</th>\n",
       "      <td>0</td>\n",
       "    </tr>\n",
       "    <tr>\n",
       "      <th>504</th>\n",
       "      <td>1</td>\n",
       "    </tr>\n",
       "    <tr>\n",
       "      <th>593</th>\n",
       "      <td>0</td>\n",
       "    </tr>\n",
       "    <tr>\n",
       "      <th>198</th>\n",
       "      <td>1</td>\n",
       "    </tr>\n",
       "    <tr>\n",
       "      <th>595</th>\n",
       "      <td>0</td>\n",
       "    </tr>\n",
       "    <tr>\n",
       "      <th>89</th>\n",
       "      <td>0</td>\n",
       "    </tr>\n",
       "    <tr>\n",
       "      <th>483</th>\n",
       "      <td>1</td>\n",
       "    </tr>\n",
       "    <tr>\n",
       "      <th>278</th>\n",
       "      <td>0</td>\n",
       "    </tr>\n",
       "    <tr>\n",
       "      <th>823</th>\n",
       "      <td>1</td>\n",
       "    </tr>\n",
       "    <tr>\n",
       "      <th>224</th>\n",
       "      <td>1</td>\n",
       "    </tr>\n",
       "    <tr>\n",
       "      <th>1</th>\n",
       "      <td>1</td>\n",
       "    </tr>\n",
       "    <tr>\n",
       "      <th>117</th>\n",
       "      <td>0</td>\n",
       "    </tr>\n",
       "    <tr>\n",
       "      <th>767</th>\n",
       "      <td>0</td>\n",
       "    </tr>\n",
       "    <tr>\n",
       "      <th>683</th>\n",
       "      <td>0</td>\n",
       "    </tr>\n",
       "    <tr>\n",
       "      <th>56</th>\n",
       "      <td>1</td>\n",
       "    </tr>\n",
       "    <tr>\n",
       "      <th>675</th>\n",
       "      <td>0</td>\n",
       "    </tr>\n",
       "    <tr>\n",
       "      <th>372</th>\n",
       "      <td>0</td>\n",
       "    </tr>\n",
       "    <tr>\n",
       "      <th>744</th>\n",
       "      <td>1</td>\n",
       "    </tr>\n",
       "    <tr>\n",
       "      <th>5</th>\n",
       "      <td>0</td>\n",
       "    </tr>\n",
       "    <tr>\n",
       "      <th>254</th>\n",
       "      <td>0</td>\n",
       "    </tr>\n",
       "    <tr>\n",
       "      <th>537</th>\n",
       "      <td>1</td>\n",
       "    </tr>\n",
       "    <tr>\n",
       "      <th>563</th>\n",
       "      <td>0</td>\n",
       "    </tr>\n",
       "    <tr>\n",
       "      <th>...</th>\n",
       "      <td>...</td>\n",
       "    </tr>\n",
       "    <tr>\n",
       "      <th>273</th>\n",
       "      <td>0</td>\n",
       "    </tr>\n",
       "    <tr>\n",
       "      <th>834</th>\n",
       "      <td>0</td>\n",
       "    </tr>\n",
       "    <tr>\n",
       "      <th>14</th>\n",
       "      <td>0</td>\n",
       "    </tr>\n",
       "    <tr>\n",
       "      <th>419</th>\n",
       "      <td>0</td>\n",
       "    </tr>\n",
       "    <tr>\n",
       "      <th>41</th>\n",
       "      <td>0</td>\n",
       "    </tr>\n",
       "    <tr>\n",
       "      <th>337</th>\n",
       "      <td>1</td>\n",
       "    </tr>\n",
       "    <tr>\n",
       "      <th>682</th>\n",
       "      <td>0</td>\n",
       "    </tr>\n",
       "    <tr>\n",
       "      <th>644</th>\n",
       "      <td>1</td>\n",
       "    </tr>\n",
       "    <tr>\n",
       "      <th>33</th>\n",
       "      <td>0</td>\n",
       "    </tr>\n",
       "    <tr>\n",
       "      <th>817</th>\n",
       "      <td>0</td>\n",
       "    </tr>\n",
       "    <tr>\n",
       "      <th>21</th>\n",
       "      <td>1</td>\n",
       "    </tr>\n",
       "    <tr>\n",
       "      <th>610</th>\n",
       "      <td>0</td>\n",
       "    </tr>\n",
       "    <tr>\n",
       "      <th>360</th>\n",
       "      <td>0</td>\n",
       "    </tr>\n",
       "    <tr>\n",
       "      <th>581</th>\n",
       "      <td>1</td>\n",
       "    </tr>\n",
       "    <tr>\n",
       "      <th>101</th>\n",
       "      <td>0</td>\n",
       "    </tr>\n",
       "    <tr>\n",
       "      <th>28</th>\n",
       "      <td>1</td>\n",
       "    </tr>\n",
       "    <tr>\n",
       "      <th>645</th>\n",
       "      <td>1</td>\n",
       "    </tr>\n",
       "    <tr>\n",
       "      <th>705</th>\n",
       "      <td>0</td>\n",
       "    </tr>\n",
       "    <tr>\n",
       "      <th>144</th>\n",
       "      <td>0</td>\n",
       "    </tr>\n",
       "    <tr>\n",
       "      <th>794</th>\n",
       "      <td>0</td>\n",
       "    </tr>\n",
       "    <tr>\n",
       "      <th>752</th>\n",
       "      <td>0</td>\n",
       "    </tr>\n",
       "    <tr>\n",
       "      <th>880</th>\n",
       "      <td>1</td>\n",
       "    </tr>\n",
       "    <tr>\n",
       "      <th>102</th>\n",
       "      <td>0</td>\n",
       "    </tr>\n",
       "    <tr>\n",
       "      <th>762</th>\n",
       "      <td>1</td>\n",
       "    </tr>\n",
       "    <tr>\n",
       "      <th>120</th>\n",
       "      <td>0</td>\n",
       "    </tr>\n",
       "    <tr>\n",
       "      <th>475</th>\n",
       "      <td>0</td>\n",
       "    </tr>\n",
       "    <tr>\n",
       "      <th>678</th>\n",
       "      <td>0</td>\n",
       "    </tr>\n",
       "    <tr>\n",
       "      <th>35</th>\n",
       "      <td>0</td>\n",
       "    </tr>\n",
       "    <tr>\n",
       "      <th>208</th>\n",
       "      <td>1</td>\n",
       "    </tr>\n",
       "    <tr>\n",
       "      <th>88</th>\n",
       "      <td>1</td>\n",
       "    </tr>\n",
       "  </tbody>\n",
       "</table>\n",
       "<p>268 rows × 1 columns</p>\n",
       "</div>"
      ],
      "text/plain": [
       "     Survived\n",
       "816         0\n",
       "789         0\n",
       "869         1\n",
       "235         0\n",
       "473         1\n",
       "42          0\n",
       "759         1\n",
       "664         1\n",
       "94          0\n",
       "504         1\n",
       "593         0\n",
       "198         1\n",
       "595         0\n",
       "89          0\n",
       "483         1\n",
       "278         0\n",
       "823         1\n",
       "224         1\n",
       "1           1\n",
       "117         0\n",
       "767         0\n",
       "683         0\n",
       "56          1\n",
       "675         0\n",
       "372         0\n",
       "744         1\n",
       "5           0\n",
       "254         0\n",
       "537         1\n",
       "563         0\n",
       "..        ...\n",
       "273         0\n",
       "834         0\n",
       "14          0\n",
       "419         0\n",
       "41          0\n",
       "337         1\n",
       "682         0\n",
       "644         1\n",
       "33          0\n",
       "817         0\n",
       "21          1\n",
       "610         0\n",
       "360         0\n",
       "581         1\n",
       "101         0\n",
       "28          1\n",
       "645         1\n",
       "705         0\n",
       "144         0\n",
       "794         0\n",
       "752         0\n",
       "880         1\n",
       "102         0\n",
       "762         1\n",
       "120         0\n",
       "475         0\n",
       "678         0\n",
       "35          0\n",
       "208         1\n",
       "88          1\n",
       "\n",
       "[268 rows x 1 columns]"
      ]
     },
     "execution_count": 74,
>>>>>>> 2647867a205789b1da4117883f62add01f51dcf5
     "metadata": {},
     "output_type": "execute_result"
    }
   ],
   "source": [
<<<<<<< HEAD
    "#avaliando a acuracidade do modelo Decision Tree Entropy\n",
    "accuracy_score(y_test,predict_dtree)*100"
   ]
  },
  {
   "cell_type": "code",
   "execution_count": 11,
   "metadata": {},
   "outputs": [
    {
     "data": {
      "text/plain": [
       "array([[142,  22],\n",
       "       [ 36,  68]], dtype=int64)"
      ]
     },
     "execution_count": 11,
     "metadata": {},
     "output_type": "execute_result"
    }
   ],
   "source": [
    "#142 and 68 correct predictions\n",
    "confusion_matrix = confusion_matrix(y_test, predict_dtree)\n",
    "confusion_matrix"
   ]
  },
  {
   "cell_type": "code",
   "execution_count": 139,
   "metadata": {},
   "outputs": [
    {
     "data": {
      "text/plain": [
       "array([0, 1, 0, 0, 1, 0, 1, 0, 1, 0, 0, 0, 1, 0, 1, 1, 0, 0, 1, 1, 0, 0,\n",
       "       1, 0, 1, 0, 1, 0, 0, 0, 0, 0, 1, 0, 0, 0, 1, 1, 0, 0, 0, 0, 0, 1,\n",
       "       1, 0, 0, 0, 1, 1, 0, 0, 1, 1, 0, 0, 0, 0, 0, 1, 0, 0, 0, 1, 0, 1,\n",
       "       1, 0, 0, 1, 1, 0, 1, 0, 1, 0, 0, 1, 0, 1, 0, 0, 0, 0, 0, 0, 1, 1,\n",
       "       1, 0, 1, 0, 1, 0, 0, 0, 1, 0, 1, 0, 1, 0, 0, 0, 1, 0, 0, 0, 0, 0,\n",
       "       0, 1, 1, 1, 1, 0, 0, 1, 0, 1, 1, 0, 1, 0, 0, 1, 0, 1, 0, 0, 0, 0,\n",
       "       0, 0, 0, 0, 0, 0, 1, 0, 0, 1, 0, 0, 0, 0, 0, 0, 0, 0, 1, 0, 0, 1,\n",
       "       0, 0, 1, 1, 0, 1, 1, 0, 1, 0, 0, 1, 0, 0, 1, 1, 0, 0, 0, 0, 0, 1,\n",
       "       1, 0, 1, 1, 0, 0, 1, 0, 1, 0, 1, 0, 0, 0, 0, 0, 0, 0, 0, 0, 0, 1,\n",
       "       0, 1, 1, 0, 0, 1, 0, 0, 1, 0, 1, 0, 0, 0, 0, 1, 1, 0, 1, 0, 1, 0,\n",
       "       1, 0, 1, 0, 1, 1, 0, 1, 0, 0, 0, 1, 0, 0, 0, 0, 0, 0, 1, 1, 1, 1,\n",
       "       0, 0, 0, 0, 1, 0, 1, 1, 1, 0, 0, 0, 0, 0, 0, 0, 1, 0, 0, 0, 1, 1,\n",
       "       0, 0, 0, 0, 1, 0, 0, 0, 1, 1, 0, 1, 0, 0, 0, 0, 1, 0, 1, 1, 1, 0,\n",
       "       0, 0, 0, 0, 0, 1, 0, 0, 0, 0, 1, 0, 0, 0, 0, 0, 0, 0, 1, 1, 0, 0,\n",
       "       0, 1, 0, 0, 0, 1, 1, 1, 0, 0, 0, 0, 0, 0, 0, 0, 1, 0, 1, 0, 0, 0,\n",
       "       1, 0, 0, 1, 0, 0, 0, 0, 0, 0, 0, 0, 0, 1, 0, 1, 0, 1, 0, 1, 1, 0,\n",
       "       0, 0, 1, 0, 1, 0, 0, 1, 0, 1, 1, 0, 1, 0, 0, 0, 1, 0, 0, 1, 0, 0,\n",
       "       1, 1, 1, 0, 0, 0, 0, 0, 1, 1, 0, 1, 0, 0, 0, 0, 0, 1, 0, 0, 0, 1,\n",
       "       0, 1, 0, 0, 1, 0, 1, 0, 0, 0, 0, 0, 1, 1, 1, 1, 1, 0, 1, 0, 0, 0],\n",
       "      dtype=int64)"
      ]
     },
     "execution_count": 139,
     "metadata": {},
     "output_type": "execute_result"
    }
   ],
   "source": [
    "#predict new cases\n",
    "predict_dtree_test = clf.predict(test_df_x)\n",
    "predict_dtree_test\n"
   ]
  },
  {
   "cell_type": "code",
   "execution_count": 23,
   "metadata": {},
   "outputs": [
    {
     "name": "stderr",
     "output_type": "stream",
     "text": [
      "C:\\Users\\chaos\\Anaconda3\\lib\\site-packages\\sklearn\\utils\\validation.py:578: DataConversionWarning: A column-vector y was passed when a 1d array was expected. Please change the shape of y to (n_samples, ), for example using ravel().\n",
      "  y = column_or_1d(y, warn=True)\n"
     ]
    },
    {
     "data": {
      "text/plain": [
       "LogisticRegression(C=1.0, class_weight=None, dual=False, fit_intercept=True,\n",
       "          intercept_scaling=1, max_iter=100, multi_class='ovr', n_jobs=1,\n",
       "          penalty='l2', random_state=None, solver='liblinear', tol=0.0001,\n",
       "          verbose=0, warm_start=False)"
      ]
     },
     "execution_count": 23,
     "metadata": {},
     "output_type": "execute_result"
    }
   ],
   "source": [
    "#Logistic Regression\n",
    "#Spliting the dataset into train and test data set for logistic regression\n",
    "\n",
    "x_train,x_test,y_train,y_test = train_test_split(train_x,train_y, test_size=0.3,random_state=22)\n",
    "\n",
    "LogisticReg = LogisticRegression()\n",
    "LogisticReg.fit(x_train,y_train)"
   ]
  },
  {
   "cell_type": "code",
   "execution_count": 24,
   "metadata": {},
   "outputs": [
    {
     "data": {
      "text/plain": [
       "75.74626865671642"
      ]
     },
     "execution_count": 24,
     "metadata": {},
     "output_type": "execute_result"
    }
   ],
   "source": [
    "prediction_lr = LogisticReg.predict(x_test)\n",
    "accuracy_score(y_test,prediction_lr)*100"
   ]
  },
  {
   "cell_type": "code",
   "execution_count": 25,
   "metadata": {},
   "outputs": [
    {
     "data": {
      "text/plain": [
       "array([[134,  30],\n",
       "       [ 35,  69]], dtype=int64)"
      ]
     },
     "execution_count": 25,
     "metadata": {},
     "output_type": "execute_result"
    }
   ],
   "source": [
    "#134 and 69 correct predictions\n",
    "confusion_matrix_lr = confusion_matrix(y_test, prediction_lr)\n",
    "confusion_matrix_lr"
   ]
  },
  {
   "cell_type": "code",
   "execution_count": 26,
   "metadata": {},
   "outputs": [
    {
     "data": {
      "text/plain": [
       "array([0, 1, 0, 0, 1, 0, 1, 0, 1, 0, 0, 0, 1, 0, 1, 1, 0, 0, 1, 1, 0, 0,\n",
       "       1, 0, 1, 0, 1, 0, 0, 0, 0, 0, 1, 1, 0, 0, 1, 1, 0, 0, 0, 0, 0, 1,\n",
       "       1, 0, 0, 0, 1, 1, 0, 0, 1, 1, 0, 0, 0, 0, 0, 1, 0, 0, 0, 1, 1, 1,\n",
       "       1, 0, 0, 1, 1, 0, 1, 0, 1, 1, 0, 1, 0, 1, 0, 0, 0, 0, 0, 0, 1, 1,\n",
       "       1, 0, 1, 0, 1, 0, 0, 0, 1, 0, 1, 0, 1, 0, 0, 0, 1, 0, 0, 0, 0, 0,\n",
       "       0, 1, 1, 1, 1, 0, 0, 1, 0, 1, 1, 0, 1, 0, 0, 1, 0, 1, 0, 0, 0, 0,\n",
       "       1, 0, 0, 0, 0, 0, 1, 0, 0, 1, 0, 0, 0, 0, 0, 0, 0, 0, 1, 0, 0, 1,\n",
       "       0, 0, 1, 1, 0, 1, 1, 0, 1, 0, 0, 1, 0, 0, 1, 1, 0, 0, 0, 0, 0, 1,\n",
       "       1, 0, 1, 1, 0, 0, 1, 0, 1, 0, 1, 0, 0, 0, 0, 0, 0, 0, 0, 0, 1, 1,\n",
       "       0, 1, 1, 0, 0, 1, 0, 0, 1, 0, 1, 0, 0, 0, 0, 1, 0, 0, 1, 0, 1, 0,\n",
       "       1, 0, 1, 0, 1, 1, 0, 1, 0, 0, 0, 1, 0, 0, 0, 0, 0, 0, 1, 1, 1, 1,\n",
       "       0, 0, 0, 0, 1, 0, 1, 1, 1, 0, 0, 0, 0, 0, 0, 0, 1, 0, 0, 0, 1, 1,\n",
       "       0, 0, 0, 0, 1, 0, 0, 0, 1, 1, 0, 1, 0, 0, 0, 0, 1, 0, 1, 1, 1, 0,\n",
       "       0, 0, 0, 0, 0, 1, 0, 0, 0, 0, 1, 0, 0, 0, 0, 0, 0, 0, 1, 1, 0, 0,\n",
       "       0, 1, 0, 0, 0, 1, 1, 1, 0, 0, 0, 0, 0, 0, 0, 0, 1, 0, 1, 0, 0, 0,\n",
       "       1, 0, 0, 1, 0, 0, 0, 0, 0, 0, 0, 0, 0, 1, 0, 1, 0, 1, 0, 1, 1, 0,\n",
       "       0, 0, 1, 0, 1, 0, 0, 1, 0, 1, 1, 0, 1, 1, 0, 1, 1, 0, 0, 1, 0, 0,\n",
       "       1, 1, 1, 0, 0, 0, 0, 0, 1, 1, 0, 1, 0, 0, 0, 0, 0, 1, 0, 0, 0, 1,\n",
       "       0, 1, 0, 0, 1, 0, 1, 0, 0, 0, 0, 0, 1, 1, 1, 1, 1, 0, 1, 0, 0, 0],\n",
       "      dtype=int64)"
      ]
     },
     "execution_count": 26,
     "metadata": {},
     "output_type": "execute_result"
    }
   ],
   "source": [
    "#predict new cases\n",
    "prediction_lr_new = LogisticReg.predict(test_df_x)\n",
    "prediction_lr_new"
=======
    "y_test\n",
    "#x_train,x_test,y_train,y_test"
>>>>>>> 2647867a205789b1da4117883f62add01f51dcf5
   ]
  }
 ],
 "metadata": {
  "kernelspec": {
   "display_name": "Python 3",
   "language": "python",
   "name": "python3"
  },
  "language_info": {
   "codemirror_mode": {
    "name": "ipython",
    "version": 3
   },
   "file_extension": ".py",
   "mimetype": "text/x-python",
   "name": "python",
   "nbconvert_exporter": "python",
   "pygments_lexer": "ipython3",
   "version": "3.6.3"
  }
 },
 "nbformat": 4,
 "nbformat_minor": 2
}
